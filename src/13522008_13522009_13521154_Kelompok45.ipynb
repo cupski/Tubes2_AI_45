{
 "cells": [
  {
   "cell_type": "markdown",
   "metadata": {
    "cell_id": "e0f6a9bae92c4777b3cbef13fbcf16ac",
    "deepnote_cell_type": "markdown",
    "id": "uR1JW69eLfG_"
   },
   "source": [
    "# IF3170 Artificial Intelligence | Tugas Besar 2\n",
    "\n",
    "This notebook serves as a template for the assignment. Please create a copy of this notebook to complete your work. You can add more code blocks, markdown blocks, or new sections if needed.\n"
   ]
  },
  {
   "cell_type": "markdown",
   "metadata": {
    "cell_id": "7f505766eca94a1ab47c4e6d1037accf",
    "deepnote_cell_type": "markdown",
    "id": "ucbaI5rBLtjJ"
   },
   "source": [
    "Group Number: 45\n",
    "\n",
    "Group Members:\n",
    "- Ahmad Farid Mudrika (13522008)\n",
    "- Muhammad Yusuf Rafi (13522009)\n",
    "- ..."
   ]
  },
  {
   "cell_type": "markdown",
   "metadata": {
    "cell_id": "5321584895d241518e6cf203012da210",
    "deepnote_cell_type": "markdown",
    "id": "GwzsfETHLfHA"
   },
   "source": [
    "## Import Libraries"
   ]
  },
  {
   "cell_type": "code",
   "execution_count": 1,
   "metadata": {
    "cell_id": "9b00fc28c9e647abaa825bb6dad14ed2",
    "deepnote_cell_type": "code",
    "execution_context_id": "04725a34-2a32-4263-b40d-c6a9b3bddd84",
    "execution_millis": 2079,
    "execution_start": 1734261212245,
    "id": "jZJU5W_4LfHB",
    "source_hash": "e6c21c2d"
   },
   "outputs": [],
   "source": [
    "import pandas as pd\n",
    "import numpy as np\n",
    "import matplotlib.pyplot as plt\n",
    "import os\n",
    "import glob\n"
   ]
  },
  {
   "cell_type": "markdown",
   "metadata": {
    "cell_id": "098d2364a89640c6959916ee24b06a4f",
    "deepnote_cell_type": "markdown",
    "id": "OKbjLIdYLfHC"
   },
   "source": [
    "## Import Dataset"
   ]
  },
  {
   "cell_type": "code",
   "execution_count": 2,
   "metadata": {
    "cell_id": "a1edbd8deb4140f18656b6babecb5635",
    "deepnote_cell_type": "code",
    "execution_context_id": "04725a34-2a32-4263-b40d-c6a9b3bddd84",
    "execution_millis": 2700,
    "execution_start": 1734261214371,
    "id": "-IWFJ-gdLfHD",
    "source_hash": "d39db826"
   },
   "outputs": [
    {
     "data": {
      "text/html": [
       "<div>\n",
       "<style scoped>\n",
       "    .dataframe tbody tr th:only-of-type {\n",
       "        vertical-align: middle;\n",
       "    }\n",
       "\n",
       "    .dataframe tbody tr th {\n",
       "        vertical-align: top;\n",
       "    }\n",
       "\n",
       "    .dataframe thead th {\n",
       "        text-align: right;\n",
       "    }\n",
       "</style>\n",
       "<table border=\"1\" class=\"dataframe\">\n",
       "  <thead>\n",
       "    <tr style=\"text-align: right;\">\n",
       "      <th></th>\n",
       "      <th>state</th>\n",
       "      <th>dur</th>\n",
       "      <th>sbytes</th>\n",
       "      <th>dbytes</th>\n",
       "      <th>sttl</th>\n",
       "      <th>dttl</th>\n",
       "      <th>sloss</th>\n",
       "      <th>dloss</th>\n",
       "      <th>service</th>\n",
       "      <th>sload</th>\n",
       "      <th>dload</th>\n",
       "      <th>spkts</th>\n",
       "      <th>dpkts</th>\n",
       "      <th>id</th>\n",
       "    </tr>\n",
       "  </thead>\n",
       "  <tbody>\n",
       "    <tr>\n",
       "      <th>0</th>\n",
       "      <td>FIN</td>\n",
       "      <td>0.121478</td>\n",
       "      <td>258</td>\n",
       "      <td>172</td>\n",
       "      <td>252</td>\n",
       "      <td>254</td>\n",
       "      <td>0</td>\n",
       "      <td>0</td>\n",
       "      <td>-</td>\n",
       "      <td>14158.942380</td>\n",
       "      <td>8495.365234</td>\n",
       "      <td>6</td>\n",
       "      <td>4</td>\n",
       "      <td>1</td>\n",
       "    </tr>\n",
       "    <tr>\n",
       "      <th>1</th>\n",
       "      <td>FIN</td>\n",
       "      <td>0.649902</td>\n",
       "      <td>734</td>\n",
       "      <td>42014</td>\n",
       "      <td>62</td>\n",
       "      <td>252</td>\n",
       "      <td>2</td>\n",
       "      <td>17</td>\n",
       "      <td>-</td>\n",
       "      <td>8395.112305</td>\n",
       "      <td>503571.312500</td>\n",
       "      <td>14</td>\n",
       "      <td>38</td>\n",
       "      <td>2</td>\n",
       "    </tr>\n",
       "    <tr>\n",
       "      <th>2</th>\n",
       "      <td>FIN</td>\n",
       "      <td>1.623129</td>\n",
       "      <td>364</td>\n",
       "      <td>13186</td>\n",
       "      <td>62</td>\n",
       "      <td>252</td>\n",
       "      <td>1</td>\n",
       "      <td>6</td>\n",
       "      <td>-</td>\n",
       "      <td>1572.271851</td>\n",
       "      <td>60929.230470</td>\n",
       "      <td>8</td>\n",
       "      <td>16</td>\n",
       "      <td>3</td>\n",
       "    </tr>\n",
       "    <tr>\n",
       "      <th>3</th>\n",
       "      <td>FIN</td>\n",
       "      <td>1.681642</td>\n",
       "      <td>628</td>\n",
       "      <td>770</td>\n",
       "      <td>62</td>\n",
       "      <td>252</td>\n",
       "      <td>1</td>\n",
       "      <td>3</td>\n",
       "      <td>ftp</td>\n",
       "      <td>2740.178955</td>\n",
       "      <td>3358.622070</td>\n",
       "      <td>12</td>\n",
       "      <td>12</td>\n",
       "      <td>4</td>\n",
       "    </tr>\n",
       "    <tr>\n",
       "      <th>4</th>\n",
       "      <td>FIN</td>\n",
       "      <td>0.449454</td>\n",
       "      <td>534</td>\n",
       "      <td>268</td>\n",
       "      <td>254</td>\n",
       "      <td>252</td>\n",
       "      <td>2</td>\n",
       "      <td>1</td>\n",
       "      <td>-</td>\n",
       "      <td>8561.499023</td>\n",
       "      <td>3987.059814</td>\n",
       "      <td>10</td>\n",
       "      <td>6</td>\n",
       "      <td>5</td>\n",
       "    </tr>\n",
       "  </tbody>\n",
       "</table>\n",
       "</div>"
      ],
      "text/plain": [
       "  state       dur  sbytes  dbytes  sttl  dttl  sloss  dloss service  \\\n",
       "0   FIN  0.121478     258     172   252   254      0      0       -   \n",
       "1   FIN  0.649902     734   42014    62   252      2     17       -   \n",
       "2   FIN  1.623129     364   13186    62   252      1      6       -   \n",
       "3   FIN  1.681642     628     770    62   252      1      3     ftp   \n",
       "4   FIN  0.449454     534     268   254   252      2      1       -   \n",
       "\n",
       "          sload          dload  spkts  dpkts  id  \n",
       "0  14158.942380    8495.365234      6      4   1  \n",
       "1   8395.112305  503571.312500     14     38   2  \n",
       "2   1572.271851   60929.230470      8     16   3  \n",
       "3   2740.178955    3358.622070     12     12   4  \n",
       "4   8561.499023    3987.059814     10      6   5  "
      ]
     },
     "execution_count": 2,
     "metadata": {},
     "output_type": "execute_result"
    }
   ],
   "source": [
    "# Example of reading a csv file from a gdrive link\n",
    "\n",
    "# Take the file id from the gdrive file url\n",
    "# https://drive.google.com/file/d/1ZUtiaty9RPXhpz5F2Sy3dFPHF4YIt5iU/view?usp=sharing => The file id is 1ZUtiaty9RPXhpz5F2Sy3dFPHF4YIt5iU\n",
    "# and then put it in this format:\n",
    "# https://drive.google.com/uc?id={file_id}\n",
    "# Don't forget to change the access to public\n",
    "\n",
    "df = pd.read_csv('https://drive.google.com/uc?id=1ZUtiaty9RPXhpz5F2Sy3dFPHF4YIt5iU')\n",
    "df.head()"
   ]
  },
  {
   "cell_type": "code",
   "execution_count": 3,
   "metadata": {
    "cell_id": "1b763e03ba3a45ca8308bb982dd29131",
    "deepnote_cell_type": "code",
    "execution_context_id": "04725a34-2a32-4263-b40d-c6a9b3bddd84",
    "execution_millis": 3790,
    "execution_start": 1734261218364,
    "source_hash": "5f788e5c"
   },
   "outputs": [
    {
     "name": "stdout",
     "output_type": "stream",
     "text": [
      "   is_sm_ips_ports  ct_state_ttl  ct_flw_http_mthd  is_ftp_login  ct_ftp_cmd  \\\n",
      "0              0.0           0.0               0.0           0.0         0.0   \n",
      "1              0.0           2.0               0.0           0.0         0.0   \n",
      "2              0.0           NaN               0.0           0.0         0.0   \n",
      "3              0.0           0.0               0.0           0.0         0.0   \n",
      "4              0.0           0.0               0.0           0.0         0.0   \n",
      "\n",
      "   ct_srv_src  ct_srv_dst  ct_dst_ltm  ct_src_ltm  ct_src_dport_ltm  ...  \\\n",
      "0        11.0         NaN         5.0         4.0               2.0  ...   \n",
      "1        10.0        10.0        10.0        10.0               NaN  ...   \n",
      "2         4.0         4.0         2.0         2.0               1.0  ...   \n",
      "3         9.0         9.0         3.0         2.0               2.0  ...   \n",
      "4         3.0         3.0         4.0         3.0               1.0  ...   \n",
      "\n",
      "   response_body_len  proto  attack_cat         sjit         djit      sinpkt  \\\n",
      "0                0.0    tcp      Normal  4449.110313  3234.831566   11.845558   \n",
      "1                0.0    udp     Generic     0.000000     0.000000    0.009000   \n",
      "2                0.0    tcp    Exploits  8561.040438   249.950547  165.386453   \n",
      "3                0.0    tcp      Normal  4053.086020  2918.730804    8.669644   \n",
      "4                0.0    udp      Normal     0.000000     0.000000    0.008000   \n",
      "\n",
      "       dinpkt    tcprtt    synack    ackdat  \n",
      "0    6.261361       NaN  0.000444  0.000114  \n",
      "1    0.000000  0.000000  0.000000       NaN  \n",
      "2  172.345750  0.158826  0.057902  0.100924  \n",
      "3    4.496707  0.000558  0.000448       NaN  \n",
      "4    0.007000  0.000000  0.000000  0.000000  \n",
      "\n",
      "[5 rows x 43 columns]\n"
     ]
    }
   ],
   "source": [
    "import glob\n",
    "import os\n",
    "import pandas as pd\n",
    "\n",
    "folder_path = './train'\n",
    "\n",
    "train_csv_files = [f for f in glob.glob(os.path.join(folder_path, '*.csv'))\n",
    "                   if 'UNSW-NB15_features-modified.csv' not in f]\n",
    "\n",
    "df_list = [pd.read_csv(file) for file in train_csv_files]\n",
    "\n",
    "#merge\n",
    "train_merged_df = df_list[0]\n",
    "for df in df_list[1:]:\n",
    "    train_merged_df = pd.merge(train_merged_df, df, on='id', how='outer')\n",
    "\n",
    "train_merged_df.drop('label', axis=1, inplace=True)\n",
    "print(train_merged_df.head())"
   ]
  },
  {
   "cell_type": "markdown",
   "metadata": {
    "cell_id": "13a4b15980fc4f42892b58beb30974b5",
    "deepnote_cell_type": "markdown",
    "id": "YdSor5sdIYGs"
   },
   "source": [
    "# Exploratory Data Analysis (Optional)\n",
    "\n",
    "Exploratory Data Analysis (EDA) is a crucial step in the data analysis process that involves examining and visualizing data sets to uncover patterns, trends, anomalies, and insights. It is the first step before applying more advanced statistical and machine learning techniques. EDA helps you to gain a deep understanding of the data you are working with, allowing you to make informed decisions and formulate hypotheses for further analysis."
   ]
  },
  {
   "cell_type": "code",
   "execution_count": 4,
   "metadata": {
    "cell_id": "d6085ab4ea7f4396a8fc5469bcab7820",
    "deepnote_cell_type": "code",
    "execution_context_id": "04725a34-2a32-4263-b40d-c6a9b3bddd84",
    "execution_millis": 3,
    "execution_start": 1734261222199,
    "id": "bGiGPVYNIoWk",
    "source_hash": "a4341930"
   },
   "outputs": [
    {
     "data": {
      "text/plain": [
       "is_sm_ips_ports      8746\n",
       "ct_state_ttl         8635\n",
       "ct_flw_http_mthd     8647\n",
       "is_ftp_login         8647\n",
       "ct_ftp_cmd           8842\n",
       "ct_srv_src           8851\n",
       "ct_srv_dst           8774\n",
       "ct_dst_ltm           8738\n",
       "ct_src_ltm           8823\n",
       "ct_src_dport_ltm     8775\n",
       "ct_dst_sport_ltm     8788\n",
       "ct_dst_src_ltm       8895\n",
       "id                      0\n",
       "state                8805\n",
       "dur                  8722\n",
       "sbytes               8561\n",
       "dbytes               8869\n",
       "sttl                 8825\n",
       "dttl                 8654\n",
       "sloss                8794\n",
       "dloss                8978\n",
       "service              8791\n",
       "sload                8786\n",
       "dload                8837\n",
       "spkts                8654\n",
       "dpkts                8686\n",
       "swin                 8740\n",
       "dwin                 8779\n",
       "stcpb                8672\n",
       "dtcpb                8803\n",
       "smean                8788\n",
       "dmean                8855\n",
       "trans_depth          8785\n",
       "response_body_len    8791\n",
       "proto                8826\n",
       "attack_cat              0\n",
       "sjit                 8738\n",
       "djit                 8846\n",
       "sinpkt               8707\n",
       "dinpkt               8734\n",
       "tcprtt               8836\n",
       "synack               8736\n",
       "ackdat               8595\n",
       "dtype: int64"
      ]
     },
     "execution_count": 4,
     "metadata": {},
     "output_type": "execute_result"
    }
   ],
   "source": [
    "# Write your code here\n",
    "train_merged_df.isnull().sum()\n"
   ]
  },
  {
   "cell_type": "markdown",
   "metadata": {
    "cell_id": "3b3879cb42d94454a95754c835aaf60b",
    "deepnote_cell_type": "markdown",
    "id": "gvx-gT3bLfHM"
   },
   "source": [
    "# 1. Split Training Set and Validation Set\n",
    "\n",
    "Splitting the training and validation set works as an early diagnostic towards the performance of the model we train. This is done before the preprocessing steps to **avoid data leakage inbetween the sets**. If you want to use k-fold cross-validation, split the data later and do the cleaning and preprocessing separately for each split.\n",
    "\n",
    "Note: For training, you should use the data contained in the `train` folder given by the TA. The `test` data is only used for kaggle submission."
   ]
  },
  {
   "cell_type": "code",
   "execution_count": 5,
   "metadata": {
    "cell_id": "d9686f39ed474dcf9588266a9f9cec74",
    "deepnote_cell_type": "code",
    "execution_context_id": "04725a34-2a32-4263-b40d-c6a9b3bddd84",
    "execution_millis": 579,
    "execution_start": 1734261222254,
    "id": "4yWCUFFBLfHM",
    "source_hash": "cfe581a3"
   },
   "outputs": [
    {
     "name": "stdout",
     "output_type": "stream",
     "text": [
      "Training set size: 140272\n",
      "Validation set size: 35069\n"
     ]
    }
   ],
   "source": [
    "# Split training set and validation set here, store into variables train_set and val_set.\n",
    "# Remember to also keep the original training set before splitting. This will come important later.\n",
    "# train_set, val_set = ...\n",
    "from sklearn.model_selection import train_test_split\n",
    "#drop id karena gaguna, drop label karena gada di test set.\n",
    "train_df, val_df = train_test_split(train_merged_df, test_size=0.2, random_state=42)\n",
    "\n",
    "print(f\"Training set size: {len(train_df)}\")\n",
    "print(f\"Validation set size: {len(val_df)}\")\n"
   ]
  },
  {
   "cell_type": "markdown",
   "metadata": {
    "cell_id": "30d34a9fc1dc4ae2b2c99a5c2ff0023e",
    "deepnote_cell_type": "markdown",
    "id": "IC14lmo_LfHN"
   },
   "source": [
    "# 2. Data Cleaning and Preprocessing\n",
    "\n",
    "This step is the first thing to be done once a Data Scientist have grasped a general knowledge of the data. Raw data is **seldom ready for training**, therefore steps need to be taken to clean and format the data for the Machine Learning model to interpret.\n",
    "\n",
    "By performing data cleaning and preprocessing, you ensure that your dataset is ready for model training, leading to more accurate and reliable machine learning results. These steps are essential for transforming raw data into a format that machine learning algorithms can effectively learn from and make predictions.\n",
    "\n",
    "We will give some common methods for you to try, but you only have to **at least implement one method for each process**. For each step that you will do, **please explain the reason why did you do that process. Write it in a markdown cell under the code cell you wrote.**"
   ]
  },
  {
   "cell_type": "markdown",
   "metadata": {
    "cell_id": "8d39fc5fd820458b820063660da55169",
    "deepnote_cell_type": "markdown",
    "id": "p95_A8hSLfHY"
   },
   "source": [
    "## A. Data Cleaning\n",
    "\n",
    "**Data cleaning** is the crucial first step in preparing your dataset for machine learning. Raw data collected from various sources is often messy and may contain errors, missing values, and inconsistencies. Data cleaning involves the following steps:\n",
    "\n",
    "1. **Handling Missing Data:** Identify and address missing values in the dataset. This can include imputing missing values, removing rows or columns with excessive missing data, or using more advanced techniques like interpolation.\n",
    "\n",
    "2. **Dealing with Outliers:** Identify and handle outliers, which are data points significantly different from the rest of the dataset. Outliers can be removed or transformed to improve model performance.\n",
    "\n",
    "3. **Data Validation:** Check for data integrity and consistency. Ensure that data types are correct, categorical variables have consistent labels, and numerical values fall within expected ranges.\n",
    "\n",
    "4. **Removing Duplicates:** Identify and remove duplicate rows, as they can skew the model's training process and evaluation metrics.\n",
    "\n",
    "5. **Feature Engineering**: Create new features or modify existing ones to extract relevant information. This step can involve scaling, normalizing, or encoding features for better model interpretability."
   ]
  },
  {
   "cell_type": "markdown",
   "metadata": {
    "cell_id": "b4a11495198740879bf6c6c5fb41bc1c",
    "deepnote_cell_type": "markdown",
    "id": "_wruGao9LfHZ"
   },
   "source": [
    "### I. Handling Missing Data\n",
    "\n",
    "Missing data can adversely affect the performance and accuracy of machine learning models. There are several strategies to handle missing data in machine learning:\n",
    "\n",
    "1. **Data Imputation:**\n",
    "\n",
    "    a. **Mean, Median, or Mode Imputation:** For numerical features, you can replace missing values with the mean, median, or mode of the non-missing values in the same feature. This method is simple and often effective when data is missing at random.\n",
    "\n",
    "    b. **Constant Value Imputation:** You can replace missing values with a predefined constant value (e.g., 0) if it makes sense for your dataset and problem.\n",
    "\n",
    "    c. **Imputation Using Predictive Models:** More advanced techniques involve using predictive models to estimate missing values. For example, you can train a regression model to predict missing numerical values or a classification model to predict missing categorical values.\n",
    "\n",
    "2. **Deletion of Missing Data:**\n",
    "\n",
    "    a. **Listwise Deletion:** In cases where the amount of missing data is relatively small, you can simply remove rows with missing values from your dataset. However, this approach can lead to a loss of valuable information.\n",
    "\n",
    "    b. **Column (Feature) Deletion:** If a feature has a large number of missing values and is not critical for your analysis, you can consider removing that feature altogether.\n",
    "\n",
    "3. **Domain-Specific Strategies:**\n",
    "\n",
    "    a. **Domain Knowledge:** In some cases, domain knowledge can guide the imputation process. For example, if you know that missing values are related to a specific condition, you can impute them accordingly.\n",
    "\n",
    "4. **Imputation Libraries:**\n",
    "\n",
    "    a. **Scikit-Learn:** Scikit-Learn provides a `SimpleImputer` class that can handle basic imputation strategies like mean, median, and mode imputation.\n",
    "\n",
    "    b. **Fancyimpute:** Fancyimpute is a Python library that offers more advanced imputation techniques, including matrix factorization, k-nearest neighbors, and deep learning-based methods.\n",
    "\n",
    "The choice of imputation method should be guided by the nature of your data, the amount of missing data, the problem you are trying to solve, and the assumptions you are willing to make."
   ]
  },
  {
   "cell_type": "code",
   "execution_count": 6,
   "metadata": {
    "cell_id": "194bcfe493804cf0b5312afdf6ee0b57",
    "deepnote_cell_type": "code",
    "execution_context_id": "04725a34-2a32-4263-b40d-c6a9b3bddd84",
    "execution_millis": 0,
    "execution_start": 1734261222883,
    "id": "ucZNfCkiLfHZ",
    "source_hash": "2cd5a91c"
   },
   "outputs": [],
   "source": [
    "from sklearn.base import BaseEstimator, TransformerMixin\n",
    "from sklearn.impute import SimpleImputer\n",
    "import pandas as pd\n",
    "import numpy as np\n",
    "\n",
    "class MissingDataImputerNum(BaseEstimator, TransformerMixin):\n",
    "    def __init__(self, numerical_strategy='mean'):\n",
    "        self.numerical_strategy = numerical_strategy\n",
    "        self.num_imputer = SimpleImputer(strategy=self.numerical_strategy)\n",
    "\n",
    "    def fit(self, X, y=None):\n",
    "        self.numerical_columns = X.select_dtypes(include=['int64', 'float64']).columns\n",
    "        self.num_imputer.fit(X[self.numerical_columns])\n",
    "        return self\n",
    "\n",
    "    def transform(self, X):\n",
    "        X = X.copy()\n",
    "        X[self.numerical_columns] = self.num_imputer.transform(X[self.numerical_columns])\n",
    "        return X\n",
    "\n",
    "    def fit_transform(self, X, y=None):\n",
    "        return self.fit(X, y).transform(X)"
   ]
  },
  {
   "cell_type": "code",
   "execution_count": 7,
   "metadata": {
    "cell_id": "fce8fe0878e7460b8ff30242d227a51f",
    "deepnote_cell_type": "code",
    "execution_context_id": "04725a34-2a32-4263-b40d-c6a9b3bddd84",
    "execution_millis": 0,
    "execution_start": 1734261222947,
    "source_hash": "b852225f"
   },
   "outputs": [],
   "source": [
    "class MissingDataImputerCat(BaseEstimator, TransformerMixin):\n",
    "    def __init__(self, categorical_strategy='most_frequent'):\n",
    "        self.categorical_strategy = categorical_strategy\n",
    "        self.cat_imputer = SimpleImputer(strategy=self.categorical_strategy)\n",
    "\n",
    "    def fit(self, X, y=None):\n",
    "        self.categorical_columns = X.select_dtypes(include=['object']).columns\n",
    "        self.cat_imputer.fit(X[self.categorical_columns])\n",
    "        return self\n",
    "\n",
    "    def transform(self, X):\n",
    "        X = X.copy()\n",
    "        X[self.categorical_columns] = self.cat_imputer.transform(X[self.categorical_columns])\n",
    "        return X\n",
    "\n",
    "    def fit_transform(self, X, y=None):\n",
    "        return self.fit(X, y).transform(X)"
   ]
  },
  {
   "cell_type": "markdown",
   "metadata": {},
   "source": [
    "We use Imputation Libraries, specifically the **SimpleImputer** with the strategy 'mean' from Scikit-Learn for numerical data. We chose the 'mean' strategy because it provides a reasonable estimate and helps maintain the stability of the data distribution. For categorical data, we use the 'most_frequent' strategy, as it prevents changes to the data distribution and is suitable for discrete data.\n"
   ]
  },
  {
   "cell_type": "markdown",
   "metadata": {
    "cell_id": "1169b0e26d1549bd8d2eb0a80bfa6064",
    "deepnote_cell_type": "markdown",
    "id": "zgrSMcK75VY_"
   },
   "source": [
    "### II. Dealing with Outliers\n",
    "\n",
    "Outliers are data points that significantly differ from the majority of the data. They can be unusually high or low values that do not fit the pattern of the rest of the dataset. Outliers can significantly impact model performance, so it is important to handle them properly.\n",
    "\n",
    "Some methods to handle outliers:\n",
    "1. **Imputation**: Replace with mean, median, or a boundary value.\n",
    "2. **Clipping**: Cap values to upper and lower limits.\n",
    "3. **Transformation**: Use log, square root, or power transformations to reduce their influence.\n",
    "4. **Model-Based**: Use algorithms robust to outliers (e.g., tree-based models, Huber regression)."
   ]
  },
  {
   "cell_type": "code",
   "execution_count": null,
   "metadata": {
    "cell_id": "05d430c2218a472dabb1ad6316800d44",
    "deepnote_cell_type": "code",
    "execution_context_id": "04725a34-2a32-4263-b40d-c6a9b3bddd84",
    "execution_millis": 0,
    "execution_start": 1734261222995,
    "id": "CgbZ6Lv17Uf0",
    "source_hash": "a59bb15d"
   },
   "outputs": [],
   "source": [
    "# Handle outliers by capping values beyond 1.5 * IQR to upper and lower limits\n",
    "from sklearn.base import BaseEstimator, TransformerMixin\n",
    "import pandas as pd\n",
    "import numpy as np\n",
    "\n",
    "class OutlierHandler(BaseEstimator, TransformerMixin):\n",
    "    def __init__(self, method=\"iqr\", multiplier=1.5):\n",
    "        self.method = method\n",
    "        self.multiplier = multiplier\n",
    "        self.lower_limit_ = None\n",
    "        self.upper_limit_ = None\n",
    "\n",
    "    def fit(self, X, y=None):\n",
    "        if self.method == \"iqr\":\n",
    "            Q1 = X.quantile(0.25)\n",
    "            Q3 = X.quantile(0.75)\n",
    "            IQR = Q3 - Q1\n",
    "            self.lower_limit_ = Q1 - self.multiplier * IQR\n",
    "            self.upper_limit_ = Q3 + self.multiplier * IQR\n",
    "        return self\n",
    "\n",
    "    def transform(self, X):\n",
    "        if self.lower_limit_ is None or self.upper_limit_ is None:\n",
    "            raise RuntimeError(\"The OutlierHandler belum di fit\")\n",
    "        \n",
    "        X = X.copy()\n",
    "        X_capped = X.clip(lower=self.lower_limit_, upper=self.upper_limit_, axis=1)\n",
    "        return X_capped\n",
    "\n",
    "    def fit_transform(self, X, y=None):\n",
    "        return self.fit(X, y).transform(X)\n"
   ]
  },
  {
   "cell_type": "markdown",
   "metadata": {},
   "source": [
    "We use the Clipping method because it helps prevent extreme outliers from distorting the model, where values outside the defined range are trimmed. With a multiplier of 1.5, values smaller than the lower bound are replaced with the lower bound, and values larger than the upper bound are replaced with the upper bound."
   ]
  },
  {
   "cell_type": "markdown",
   "metadata": {
    "cell_id": "80913fb31cf5416cba0ad09bb5865870",
    "deepnote_cell_type": "markdown",
    "id": "aO0ZEZ-s6Lu-"
   },
   "source": [
    "### III. Remove Duplicates\n",
    "Handling duplicate values is crucial because they can compromise data integrity, leading to inaccurate analysis and insights. Duplicate entries can bias machine learning models, causing overfitting and reducing their ability to generalize to new data. They also inflate the dataset size unnecessarily, increasing computational costs and processing times. Additionally, duplicates can distort statistical measures and lead to inconsistencies, ultimately affecting the reliability of data-driven decisions and reporting. Ensuring data quality by removing duplicates is essential for accurate, efficient, and consistent analysis."
   ]
  },
  {
   "cell_type": "code",
   "execution_count": 39,
   "metadata": {
    "cell_id": "50bc99cd6fbe44f2a570c48a4b45e915",
    "deepnote_cell_type": "code",
    "execution_context_id": "04725a34-2a32-4263-b40d-c6a9b3bddd84",
    "execution_millis": 226,
    "execution_start": 1734261223043,
    "id": "BHCkkZ-v7iF8",
    "source_hash": "bf0977"
   },
   "outputs": [
    {
     "name": "stdout",
     "output_type": "stream",
     "text": [
      "Training set size after removing duplicates: 140272\n",
      "Validation set size after removing duplicates: 35069\n"
     ]
    }
   ],
   "source": [
    "train_df.drop_duplicates(inplace=True)\n",
    "print(f\"Training set size after removing duplicates: {len(train_df)}\")\n",
    "\n",
    "val_df.drop_duplicates(inplace=True)\n",
    "print(f\"Validation set size after removing duplicates: {len(val_df)}\")"
   ]
  },
  {
   "cell_type": "markdown",
   "metadata": {
    "cell_id": "7faa22ac6e674e80aa900e63b3182889",
    "deepnote_cell_type": "markdown",
    "id": "eycPASmMLfHa"
   },
   "source": [
    "### IV. Feature Engineering\n",
    "\n",
    "**Feature engineering** involves creating new features (input variables) or transforming existing ones to improve the performance of machine learning models. Feature engineering aims to enhance the model's ability to learn patterns and make accurate predictions from the data. It's often said that \"good features make good models.\"\n",
    "\n",
    "1. **Feature Selection:** Feature engineering can involve selecting the most relevant and informative features from the dataset. Removing irrelevant or redundant features not only simplifies the model but also reduces the risk of overfitting.\n",
    "\n",
    "2. **Creating New Features:** Sometimes, the existing features may not capture the underlying patterns effectively. In such cases, engineers create new features that provide additional information. For example:\n",
    "   \n",
    "   - **Polynomial Features:** Engineers may create new features by taking the square, cube, or other higher-order terms of existing numerical features. This can help capture nonlinear relationships.\n",
    "   \n",
    "   - **Interaction Features:** Interaction features are created by combining two or more existing features. For example, if you have features \"length\" and \"width,\" you can create an \"area\" feature by multiplying them.\n",
    "\n",
    "3. **Binning or Discretization:** Continuous numerical features can be divided into bins or categories. For instance, age values can be grouped into bins like \"child,\" \"adult,\" and \"senior.\"\n",
    "\n",
    "4. **Domain-Specific Feature Engineering:** Depending on the domain and problem, engineers may create domain-specific features. For example, in fraud detection, features related to transaction history and user behavior may be engineered to identify anomalies.\n",
    "\n",
    "Feature engineering is both a creative and iterative process. It requires a deep understanding of the data, domain knowledge, and experimentation to determine which features will enhance the model's predictive power."
   ]
  },
  {
   "cell_type": "code",
   "execution_count": 38,
   "metadata": {
    "cell_id": "850b7d4fdac646f59eed1f5d0f382a2c",
    "deepnote_cell_type": "code",
    "execution_context_id": "04725a34-2a32-4263-b40d-c6a9b3bddd84",
    "execution_millis": 0,
    "execution_start": 1734261223319,
    "id": "UoXEV6wkLfHa",
    "source_hash": "9fe0a904"
   },
   "outputs": [],
   "source": [
    "# Write your code here\n",
    "from sklearn.base import BaseEstimator, TransformerMixin\n",
    "class FeatureEngineering(BaseEstimator, TransformerMixin):\n",
    "    def __init__(self):\n",
    "        pass\n",
    "\n",
    "    def fit(self, X, y=None):\n",
    "        return self\n",
    "\n",
    "    def transform(self, X):\n",
    "        X = X.copy()\n",
    "        if 'sjit' in X.columns and 'djit' in X.columns:\n",
    "            X['jit'] = X['sjit'] + X['djit']\n",
    "            X.drop(columns=['sjit', 'djit', 'synack', 'ackdat'], inplace=True)\n",
    "        if 'label' in X.columns:\n",
    "            X.drop(columns=['label'], inplace=True)\n",
    "        return X\n",
    "    def fit_transform(self, X, y=None):\n",
    "        return self.fit(X, y).transform(X)\n"
   ]
  },
  {
   "cell_type": "markdown",
   "metadata": {},
   "source": [
    "We performed feature selection by dropping the 'synack' and 'ackdat' features because the 'tcprtt' feature already contains the sum of 'synack' and 'ackdat'. Additionally, we created a new feature, 'jit', which is the sum of the 'sjit' and 'djit' features, and then dropped both of those features after summing them. Finally, we dropped the 'Label' feature as it was not relevant."
   ]
  },
  {
   "cell_type": "markdown",
   "metadata": {
    "cell_id": "59c4169706c349538c942a655dda0cbb",
    "deepnote_cell_type": "markdown",
    "id": "xw11_49xLfHb"
   },
   "source": [
    "## B. Data Preprocessing\n",
    "\n",
    "**Data preprocessing** is a broader step that encompasses both data cleaning and additional transformations to make the data suitable for machine learning algorithms. Its primary goals are:\n",
    "\n",
    "1. **Feature Scaling:** Ensure that numerical features have similar scales. Common techniques include Min-Max scaling (scaling to a specific range) or standardization (mean-centered, unit variance).\n",
    "\n",
    "2. **Encoding Categorical Variables:** Machine learning models typically work with numerical data, so categorical variables need to be encoded. This can be done using one-hot encoding, label encoding, or more advanced methods like target encoding.\n",
    "\n",
    "3. **Handling Imbalanced Classes:** If dealing with imbalanced classes in a binary classification task, apply techniques such as oversampling, undersampling, or using different evaluation metrics to address class imbalance.\n",
    "\n",
    "4. **Dimensionality Reduction:** Reduce the number of features using techniques like Principal Component Analysis (PCA) or feature selection to simplify the model and potentially improve its performance.\n",
    "\n",
    "5. **Normalization:** Normalize data to achieve a standard distribution. This is particularly important for algorithms that assume normally distributed data."
   ]
  },
  {
   "cell_type": "markdown",
   "metadata": {
    "cell_id": "7a705e6e2836492499d8832f52b71e93",
    "deepnote_cell_type": "markdown",
    "id": "rVyVnA1hLfHd"
   },
   "source": [
    "### Notes on Preprocessing processes\n",
    "\n",
    "It is advised to create functions or classes that have the same/similar type of inputs and outputs, so you can add, remove, or swap the order of the processes easily. You can implement the functions or classes by yourself\n",
    "\n",
    "or\n",
    "\n",
    "use `sklearn` library. To create a new preprocessing component in `sklearn`, implement a corresponding class that includes:\n",
    "1. Inheritance to `BaseEstimator` and `TransformerMixin`\n",
    "2. The method `fit`\n",
    "3. The method `transform`"
   ]
  },
  {
   "cell_type": "code",
   "execution_count": 11,
   "metadata": {
    "cell_id": "64d390fc57dc4984ba5ca8156dd4b273",
    "deepnote_cell_type": "code",
    "execution_context_id": "04725a34-2a32-4263-b40d-c6a9b3bddd84",
    "execution_millis": 1,
    "execution_start": 1734261223366,
    "id": "WbxHt-5eKz_I",
    "source_hash": "e279dd90"
   },
   "outputs": [],
   "source": [
    "# Example\n",
    "\n",
    "# from sklearn.base import BaseEstimator, TransformerMixin\n",
    "\n",
    "# class FeatureEncoder(BaseEstimator, TransformerMixin):\n",
    "\n",
    "#     def fit(self, X, y=None):\n",
    "\n",
    "#         # Fit the encoder here\n",
    "\n",
    "#         return self\n",
    "\n",
    "#     def transform(self, X):\n",
    "#         X_encoded = X.copy()\n",
    "\n",
    "#         # Encode the categorical variables here\n",
    "\n",
    "#         return X_encoded"
   ]
  },
  {
   "cell_type": "markdown",
   "metadata": {
    "cell_id": "35069f0c51264307a2b8a2500066a14a",
    "deepnote_cell_type": "markdown",
    "id": "WhCgOl4xLfHb"
   },
   "source": [
    "### I. Feature Scaling\n",
    "\n",
    "**Feature scaling** is a preprocessing technique used in machine learning to standardize the range of independent variables or features of data. The primary goal of feature scaling is to ensure that all features contribute equally to the training process and that machine learning algorithms can work effectively with the data.\n",
    "\n",
    "Here are the main reasons why feature scaling is important:\n",
    "\n",
    "1. **Algorithm Sensitivity:** Many machine learning algorithms are sensitive to the scale of input features. If the scales of features are significantly different, some algorithms may perform poorly or take much longer to converge.\n",
    "\n",
    "2. **Distance-Based Algorithms:** Algorithms that rely on distances or similarities between data points, such as k-nearest neighbors (KNN) and support vector machines (SVM), can be influenced by feature scales. Features with larger scales may dominate the distance calculations.\n",
    "\n",
    "3. **Regularization:** Regularization techniques, like L1 (Lasso) and L2 (Ridge) regularization, add penalty terms based on feature coefficients. Scaling ensures that all features are treated equally in the regularization process.\n",
    "\n",
    "Common methods for feature scaling include:\n",
    "\n",
    "1. **Min-Max Scaling (Normalization):** This method scales features to a specific range, typically [0, 1]. It's done using the following formula:\n",
    "\n",
    "   $$X' = \\frac{X - X_{min}}{X_{max} - X_{min}}$$\n",
    "\n",
    "   - Here, $X$ is the original feature value, $X_{min}$ is the minimum value of the feature, and $X_{max}$ is the maximum value of the feature.  \n",
    "<br />\n",
    "<br />\n",
    "2. **Standardization (Z-score Scaling):** This method scales features to have a mean (average) of 0 and a standard deviation of 1. It's done using the following formula:\n",
    "\n",
    "   $$X' = \\frac{X - \\mu}{\\sigma}$$\n",
    "\n",
    "   - $X$ is the original feature value, $\\mu$ is the mean of the feature, and $\\sigma$ is the standard deviation of the feature.  \n",
    "<br />\n",
    "<br />\n",
    "3. **Robust Scaling:** Robust scaling is a method that scales features to the interquartile range (IQR) and is less affected by outliers. It's calculated as:\n",
    "\n",
    "   $$X' = \\frac{X - Q1}{Q3 - Q1}$$\n",
    "\n",
    "   - $X$ is the original feature value, $Q1$ is the first quartile (25th percentile), and $Q3$ is the third quartile (75th percentile) of the feature.  \n",
    "<br />\n",
    "<br />\n",
    "4. **Log Transformation:** In cases where data is highly skewed or has a heavy-tailed distribution, taking the logarithm of the feature values can help stabilize the variance and improve scaling.\n",
    "\n",
    "The choice of scaling method depends on the characteristics of your data and the requirements of your machine learning algorithm. **Min-max scaling and standardization are the most commonly used techniques and work well for many datasets.**\n",
    "\n",
    "Scaling should be applied separately to each training and test set to prevent data leakage from the test set into the training set. Additionally, **some algorithms may not require feature scaling, particularly tree-based models.**"
   ]
  },
  {
   "cell_type": "code",
   "execution_count": 37,
   "metadata": {
    "cell_id": "cd697194bb7d4892aed853e761473a66",
    "deepnote_cell_type": "code",
    "execution_context_id": "04725a34-2a32-4263-b40d-c6a9b3bddd84",
    "execution_millis": 2,
    "execution_start": 1734261274578,
    "id": "COef9EbCLfHb",
    "source_hash": "fd9c823d"
   },
   "outputs": [],
   "source": [
    "from sklearn.base import BaseEstimator, TransformerMixin\n",
    "from sklearn.preprocessing import MinMaxScaler, StandardScaler, RobustScaler\n",
    "import numpy as np\n",
    "import pandas as pd\n",
    "\n",
    "class FeatureScaler(BaseEstimator, TransformerMixin):\n",
    "    def __init__(self, strategy='standardization'):\n",
    "        self.strategy = strategy\n",
    "        self.scaler = StandardScaler()\n",
    "\n",
    "    def fit(self, X, y=None):\n",
    "        if self.strategy == 'standardization':\n",
    "            self.scaler = StandardScaler()\n",
    "            self.scaler.fit(X)\n",
    "        return self\n",
    "\n",
    "    def transform(self, X, y=None):\n",
    "        X_scaled = self.scaler.transform(X)\n",
    "        \n",
    "        return X_scaled\n",
    "\n",
    "    def fit_transform(self, X, y=None):\n",
    "        return self.fit(X, y).transform(X, y)\n"
   ]
  },
  {
   "cell_type": "markdown",
   "metadata": {},
   "source": [
    "We use Standardization (Z-score Scaling) because it helps maintain a stable distribution of the data, where each feature is centered around the mean and divided by the standard deviation. This ensures that each feature has a mean of 0 and a standard deviation of 1."
   ]
  },
  {
   "cell_type": "markdown",
   "metadata": {
    "cell_id": "ca9ca8f36abb4be2ab769cbdc025a12d",
    "deepnote_cell_type": "markdown",
    "id": "f_Lh-4JwLfHc"
   },
   "source": [
    "### II. Feature Encoding\n",
    "\n",
    "**Feature encoding**, also known as **categorical encoding**, is the process of converting categorical data (non-numeric data) into a numerical format so that it can be used as input for machine learning algorithms. Most machine learning models require numerical data for training and prediction, so feature encoding is a critical step in data preprocessing.\n",
    "\n",
    "Categorical data can take various forms, including:\n",
    "\n",
    "1. **Nominal Data:** Categories with no intrinsic order, like colors or country names.  \n",
    "\n",
    "2. **Ordinal Data:** Categories with a meaningful order but not necessarily equidistant, like education levels (e.g., \"high school,\" \"bachelor's,\" \"master's\").\n",
    "\n",
    "There are several common methods for encoding categorical data:\n",
    "\n",
    "1. **Label Encoding:**\n",
    "\n",
    "   - Label encoding assigns a unique integer to each category in a feature.\n",
    "   - It's suitable for ordinal data where there's a clear order among categories.\n",
    "   - For example, if you have an \"education\" feature with values \"high school,\" \"bachelor's,\" and \"master's,\" you can encode them as 0, 1, and 2, respectively.\n",
    "<br />\n",
    "<br />\n",
    "2. **One-Hot Encoding:**\n",
    "\n",
    "   - One-hot encoding creates a binary (0 or 1) column for each category in a nominal feature.\n",
    "   - It's suitable for nominal data where there's no inherent order among categories.\n",
    "   - Each category becomes a new feature, and the presence (1) or absence (0) of a category is indicated for each row.\n",
    "<br />\n",
    "<br />\n",
    "3. **Target Encoding (Mean Encoding):**\n",
    "\n",
    "   - Target encoding replaces each category with the mean of the target variable for that category.\n",
    "   - It's often used for classification problems."
   ]
  },
  {
   "cell_type": "code",
   "execution_count": 36,
   "metadata": {
    "cell_id": "a7d251b3e3ea469a8a654817e727cc9b",
    "deepnote_cell_type": "code",
    "execution_context_id": "04725a34-2a32-4263-b40d-c6a9b3bddd84",
    "execution_millis": 0,
    "execution_start": 1734261223463,
    "id": "psElSUugLfHc",
    "source_hash": "a293b5e0"
   },
   "outputs": [],
   "source": [
    "from sklearn.base import BaseEstimator, TransformerMixin\n",
    "import pandas as pd\n",
    "import numpy as np\n",
    "from sklearn.preprocessing import OneHotEncoder, LabelEncoder\n",
    "\n",
    "class FeatureEncoding(BaseEstimator, TransformerMixin):\n",
    "    def __init__(self, encoding_method='one_hot', target_column=None):\n",
    "        self.encoding_method = encoding_method\n",
    "        self.target_column = target_column\n",
    "        self.encoders = {}\n",
    "\n",
    "    def fit(self, X, y=None):\n",
    "        if self.encoding_method == 'one_hot':\n",
    "            self.encoder = OneHotEncoder(drop='first', sparse=False, handle_unknown='ignore')\n",
    "            self.encoder.fit(X.select_dtypes(include=['object', 'category']))\n",
    "\n",
    "        return self\n",
    "\n",
    "    def transform(self, X):\n",
    "        X_transformed = X.copy()\n",
    "        if self.encoding_method == 'one_hot':\n",
    "            one_hot_encoded = self.encoder.transform(X_transformed.select_dtypes(include=['object', 'category']))\n",
    "            one_hot_cols = self.encoder.get_feature_names_out(X_transformed.select_dtypes(include=['object', 'category']).columns)\n",
    "            one_hot_df = pd.DataFrame(one_hot_encoded, columns=one_hot_cols, index=X_transformed.index)\n",
    "            X_transformed = pd.concat([X_transformed.drop(columns=self.encoder.feature_names_in_), one_hot_df], axis=1)\n",
    "\n",
    "        return X_transformed\n",
    "\n",
    "    def fit_transform(self, X, y=None):\n",
    "        return self.fit(X, y).transform(X)"
   ]
  },
  {
   "cell_type": "markdown",
   "metadata": {},
   "source": [
    "We use One-Hot Encoding because it transforms categorical variables into numerical representations, where each category in a variable is mapped to a binary column (0/1). Specifically, our data does not have ordinal relationships, making this method suitable and preventing confusion for the model later on."
   ]
  },
  {
   "cell_type": "markdown",
   "metadata": {
    "cell_id": "3fff076426b74865a7c0ec68213a543f",
    "deepnote_cell_type": "markdown",
    "id": "jKQO9wtB8Pc0"
   },
   "source": [
    "### III. Handling Imbalanced Dataset\n",
    "\n",
    "**Handling imbalanced datasets** is important because imbalanced data can lead to several issues that negatively impact the performance and reliability of machine learning models. Here are some key reasons:\n",
    "\n",
    "1. **Biased Model Performance**:\n",
    "\n",
    " - Models trained on imbalanced data tend to be biased towards the majority class, leading to poor performance on the minority class. This can result in misleading accuracy metrics.\n",
    "\n",
    "2. **Misleading Accuracy**:\n",
    "\n",
    " - High overall accuracy can be misleading in imbalanced datasets. For example, if 95% of the data belongs to one class, a model that always predicts the majority class will have 95% accuracy but will fail to identify the minority class.\n",
    "\n",
    "3. **Poor Generalization**:\n",
    "\n",
    " - Models trained on imbalanced data may not generalize well to new, unseen data, especially if the minority class is underrepresented.\n",
    "\n",
    "\n",
    "Some methods to handle imbalanced datasets:\n",
    "1. **Resampling Methods**:\n",
    "\n",
    " - Oversampling: Increase the number of instances in the minority class by duplicating or generating synthetic samples (e.g., SMOTE).\n",
    " - Undersampling: Reduce the number of instances in the majority class to balance the dataset.\n",
    "\n",
    "2. **Evaluation Metrics**:\n",
    "\n",
    " - Use appropriate evaluation metrics such as precision, recall, F1-score, ROC-AUC, and confusion matrix instead of accuracy to better assess model performance on imbalanced data.\n",
    "\n",
    "3. **Algorithmic Approaches**:\n",
    "\n",
    " - Use algorithms that are designed to handle imbalanced data, such as decision trees, random forests, or ensemble methods.\n",
    " - Adjust class weights in algorithms to give more importance to the minority class."
   ]
  },
  {
   "cell_type": "code",
   "execution_count": 14,
   "metadata": {
    "cell_id": "f878bd719a4c4fdab6d64bc4daba5c58",
    "deepnote_cell_type": "code",
    "execution_context_id": "04725a34-2a32-4263-b40d-c6a9b3bddd84",
    "execution_millis": 2963,
    "execution_start": 1734261223516,
    "source_hash": "73efdfa6"
   },
   "outputs": [
    {
     "name": "stdout",
     "output_type": "stream",
     "text": [
      "Defaulting to user installation because normal site-packages is not writeable\n",
      "Collecting imblearn\n",
      "  Downloading imblearn-0.0-py2.py3-none-any.whl.metadata (355 bytes)\n",
      "Collecting imbalanced-learn (from imblearn)\n",
      "  Downloading imbalanced_learn-0.12.4-py3-none-any.whl.metadata (8.3 kB)\n",
      "Requirement already satisfied: numpy>=1.17.3 in c:\\users\\asus\\appdata\\roaming\\python\\python312\\site-packages (from imbalanced-learn->imblearn) (1.26.1)\n",
      "Requirement already satisfied: scipy>=1.5.0 in c:\\users\\asus\\appdata\\roaming\\python\\python312\\site-packages (from imbalanced-learn->imblearn) (1.11.3)\n",
      "Requirement already satisfied: scikit-learn>=1.0.2 in c:\\users\\asus\\appdata\\roaming\\python\\python312\\site-packages (from imbalanced-learn->imblearn) (1.3.2)\n",
      "Requirement already satisfied: joblib>=1.1.1 in c:\\users\\asus\\appdata\\roaming\\python\\python312\\site-packages (from imbalanced-learn->imblearn) (1.3.2)\n",
      "Requirement already satisfied: threadpoolctl>=2.0.0 in c:\\users\\asus\\appdata\\roaming\\python\\python312\\site-packages (from imbalanced-learn->imblearn) (3.2.0)\n",
      "Downloading imblearn-0.0-py2.py3-none-any.whl (1.9 kB)\n",
      "Downloading imbalanced_learn-0.12.4-py3-none-any.whl (258 kB)\n",
      "   ---------------------------------------- 0.0/258.3 kB ? eta -:--:--\n",
      "   ---------------------------------------- 0.0/258.3 kB ? eta -:--:--\n",
      "   - -------------------------------------- 10.2/258.3 kB ? eta -:--:--\n",
      "   ------ -------------------------------- 41.0/258.3 kB 653.6 kB/s eta 0:00:01\n",
      "   ---------- ---------------------------- 71.7/258.3 kB 653.6 kB/s eta 0:00:01\n",
      "   ---------------- --------------------- 112.6/258.3 kB 652.2 kB/s eta 0:00:01\n",
      "   --------------------- ---------------- 143.4/258.3 kB 655.8 kB/s eta 0:00:01\n",
      "   --------------------- ---------------- 143.4/258.3 kB 655.8 kB/s eta 0:00:01\n",
      "   ---------------------------- --------- 194.6/258.3 kB 653.6 kB/s eta 0:00:01\n",
      "   --------------------------------- ---- 225.3/258.3 kB 625.1 kB/s eta 0:00:01\n",
      "   --------------------------------- ---- 225.3/258.3 kB 625.1 kB/s eta 0:00:01\n",
      "   -------------------------------------- 258.3/258.3 kB 587.9 kB/s eta 0:00:00\n",
      "Installing collected packages: imbalanced-learn, imblearn\n",
      "Successfully installed imbalanced-learn-0.12.4 imblearn-0.0\n"
     ]
    },
    {
     "name": "stderr",
     "output_type": "stream",
     "text": [
      "\n",
      "[notice] A new release of pip is available: 24.0 -> 24.3.1\n",
      "[notice] To update, run: python.exe -m pip install --upgrade pip\n"
     ]
    }
   ],
   "source": [
    "!pip install imblearn"
   ]
  },
  {
   "cell_type": "code",
   "execution_count": 35,
   "metadata": {
    "cell_id": "59fa03814cc2407693fedc9179672377",
    "deepnote_cell_type": "code",
    "execution_context_id": "04725a34-2a32-4263-b40d-c6a9b3bddd84",
    "execution_millis": 49,
    "execution_start": 1734261226539,
    "id": "u2BQd2XJ9W1i",
    "source_hash": "6be4b23b"
   },
   "outputs": [],
   "source": [
    "from sklearn.base import BaseEstimator, TransformerMixin\n",
    "from sklearn.utils.class_weight import compute_class_weight\n",
    "from imblearn.over_sampling import SMOTE\n",
    "import numpy as np\n",
    "\n",
    "class HandleImbalancedDataset(BaseEstimator, TransformerMixin):\n",
    "    def __init__(self, strategy='smote', class_weight=None):\n",
    "        self.strategy = strategy\n",
    "        self.class_weight = class_weight\n",
    "\n",
    "    def fit(self, X, y):\n",
    "        self.classes_ = np.unique(y)\n",
    "        self.class_weight_ = self.class_weight\n",
    "        return self\n",
    "\n",
    "    def transform(self, X, y):\n",
    "        if self.strategy == 'smote':\n",
    "            smote = SMOTE(random_state=42)\n",
    "            X_resampled, y_resampled = smote.fit_resample(X, y)\n",
    "\n",
    "        return X_resampled, y_resampled\n",
    "\n",
    "    def fit_transform(self, X, y):\n",
    "        return self.fit(X, y).transform(X, y)"
   ]
  },
  {
   "cell_type": "markdown",
   "metadata": {},
   "source": [
    "We use SMOTE (Synthetic Minority Over-sampling Technique), an oversampling method, because it not only increases the number of existing minority class samples but also generates synthetic examples by interpolating between existing minority samples. This helps prevent overfitting in the minority class and provides a better distribution of the data."
   ]
  },
  {
   "cell_type": "markdown",
   "metadata": {
    "cell_id": "6c7d48c1dc68421fa2da19e6dd5ffe74",
    "deepnote_cell_type": "markdown",
    "id": "fTMSyUzf_-HQ"
   },
   "source": [
    "### IV. Data Normalization\n",
    "\n",
    "Data normalization is used to achieve a standard distribution. Without normalization, models or processes that rely on the assumption of normality may not work correctly. Normalization helps reduce the magnitude effect and ensures numerical stability during optimization."
   ]
  },
  {
   "cell_type": "code",
   "execution_count": null,
   "metadata": {
    "cell_id": "b44586903b4c4bfea3ff534dc9e89b1f",
    "deepnote_cell_type": "code",
    "execution_context_id": "04725a34-2a32-4263-b40d-c6a9b3bddd84",
    "execution_millis": 0,
    "execution_start": 1734261226643,
    "id": "HLOWHftjF1JU",
    "source_hash": "7c618ecc"
   },
   "outputs": [],
   "source": [
    "#already using feature scaling\n",
    "\n",
    "# import pandas as pd\n",
    "# from sklearn.base import BaseEstimator, TransformerMixin\n",
    "\n",
    "# class CustomNormalizer(BaseEstimator, TransformerMixin):\n",
    "#     def __init__(self):\n",
    "#         self.mean_ = None\n",
    "#         self.std_ = None\n",
    "\n",
    "#     def fit(self, X, y=None):\n",
    "#         self.mean_ = X.mean(axis=0)\n",
    "#         self.std_ = X.std(axis=0)\n",
    "#         return self\n",
    "\n",
    "#     def transform(self, X):\n",
    "#         X_normalized = (X - self.mean_) / self.std_\n",
    "#         return pd.DataFrame(X_normalized, columns=X.columns)\n",
    "\n",
    "#     def fit_transform(self, X, y=None):\n",
    "#         return self.fit(X, y).transform(X)"
   ]
  },
  {
   "cell_type": "markdown",
   "metadata": {
    "cell_id": "da4452e7064a4e83a3fc9a36a88eea92",
    "deepnote_cell_type": "markdown",
    "id": "MSZPZSntF3Kb"
   },
   "source": [
    "### V. Dimensionality Reduction\n",
    "\n",
    "Dimensionality reduction is a technique used in data preprocessing to reduce the number of input features (dimensions) in a dataset while retaining as much important information as possible. It is essential when dealing with high-dimensional data, where too many features can cause problems like increased computational costs, overfitting, and difficulty in visualization. Reducing dimensions simplifies the data, making it easier to analyze and improving the performance of machine learning models.\n",
    "\n",
    "One of the main approaches to dimensionality reduction is feature extraction. Feature extraction creates new, smaller sets of features that capture the essence of the original data. Common techniques include:\n",
    "\n",
    "1. **Principal Component Analysis (PCA)**: Converts correlated features into a smaller number of uncorrelated \"principal components.\"\n",
    "2. **t-SNE (t-Distributed Stochastic Neighbor Embedding)**: A visualization-focused method to project high-dimensional data into 2D or 3D spaces.\n",
    "3. **Autoencoders**: Neural networks that learn compressed representations of the data."
   ]
  },
  {
   "cell_type": "code",
   "execution_count": 17,
   "metadata": {
    "cell_id": "bf2bcf0a917849c3b9241fd8ae20a2a2",
    "deepnote_cell_type": "code",
    "execution_context_id": "04725a34-2a32-4263-b40d-c6a9b3bddd84",
    "execution_millis": 17127,
    "execution_start": 1734264519383,
    "id": "5rksSMAWICY_",
    "source_hash": "776283e1"
   },
   "outputs": [],
   "source": [
    "# Write your code here\n",
    "import pandas as pd\n",
    "from sklearn.decomposition import PCA\n",
    "import matplotlib.pyplot as plt\n",
    "\n",
    "#lakukan preprocessing tanpa pca, lalu jalankan cell ini.\n",
    "#Ini digunakan untuk mencari variabel yang paling signifikan\n",
    "# # Perform PCA\n",
    "# pca = PCA()\n",
    "# pca.fit(train_df_transformed)\n",
    "\n",
    "# plt.figure(figsize=(10, 6))\n",
    "# plt.plot(range(1, len(pca.explained_variance_ratio_) + 1), pca.explained_variance_ratio_.cumsum(), marker='o', linestyle='--')\n",
    "# plt.xlabel('jumlah komponen')\n",
    "# plt.ylabel('CEV')\n",
    "# plt.title('variansi berdasar jumlah komponen')\n",
    "# plt.grid(True)\n",
    "# plt.show()"
   ]
  },
  {
   "cell_type": "markdown",
   "metadata": {},
   "source": [
    "We performed a variance plot based on the number of components. Here is the graph.\n",
    "From the graph, we observe that 22 components represent more than 95% of the variance. Therefore, we included PCA with n_components=22 in our pipeline."
   ]
  },
  {
   "cell_type": "markdown",
   "metadata": {
    "cell_id": "2dcf8664e9184009a2071d92a6ad06ed",
    "deepnote_cell_type": "markdown",
    "id": "-ctVzt5DLfHd"
   },
   "source": [
    "# 3. Compile Preprocessing Pipeline\n",
    "\n",
    "All of the preprocessing classes or functions defined earlier will be compiled in this step."
   ]
  },
  {
   "cell_type": "markdown",
   "metadata": {
    "cell_id": "81caf60813014222a529dd35c5b040be",
    "deepnote_cell_type": "markdown",
    "id": "S_ZlncSVjJG6"
   },
   "source": [
    "If you use sklearn to create preprocessing classes, you can list your preprocessing classes in the Pipeline object sequentially, and then fit and transform your data."
   ]
  },
  {
   "cell_type": "code",
   "execution_count": 18,
   "metadata": {
    "cell_id": "46c4944accb448c79a9f25055a6a1bf5",
    "deepnote_cell_type": "code",
    "execution_context_id": "04725a34-2a32-4263-b40d-c6a9b3bddd84",
    "execution_millis": 11,
    "execution_start": 1734261286565,
    "id": "jHraoW_7LfHd",
    "source_hash": "470f8f7d"
   },
   "outputs": [],
   "source": [
    "from sklearn.pipeline import Pipeline\n",
    "from sklearn.compose import ColumnTransformer\n",
    "from sklearn.impute import SimpleImputer\n",
    "from sklearn.preprocessing import StandardScaler, OneHotEncoder\n",
    "from sklearn.decomposition import PCA\n",
    "\n",
    "# Buat pipeline untuk kolom numerik\n",
    "numerical_features = train_df.select_dtypes(include=['int64', 'float64']).columns.tolist()\n",
    "categorical_features = [col for col in train_df.select_dtypes(include=['object']).columns if col != 'attack_cat']\n",
    "\n",
    "# Pipeline untuk kolom numerik\n",
    "numeric_pipeline = Pipeline([\n",
    "    ('featureengineering', FeatureEngineering()),\n",
    "    # ('normalizer', CustomNormalizer()),\n",
    "    ('imputer', MissingDataImputerNum(numerical_strategy='mean')),\n",
    "    ('outlierhandler', OutlierHandler(method='iqr', multiplier=1.5)),\n",
    "    ('scaler', FeatureScaler(strategy='standardization'))\n",
    "])\n",
    "\n",
    "# Pipeline untuk kolom kategorikal\n",
    "categorical_pipeline = Pipeline([\n",
    "    ('featureengineering', FeatureEngineering()),\n",
    "    ('imputer', MissingDataImputerCat(categorical_strategy='most_frequent')),\n",
    "    # ('imbalancedata', HandleImbalancedDataset(strategy='smote')),\n",
    "    ('featureencoding', FeatureEncoding(encoding_method='one_hot'))\n",
    "])\n",
    "\n",
    "# Kolom transformer\n",
    "preprocessor = ColumnTransformer([\n",
    "    ('num', numeric_pipeline, numerical_features),\n",
    "    ('cat', categorical_pipeline, categorical_features)\n",
    "])\n",
    "pipeline = Pipeline([\n",
    "    ('preprocessor', preprocessor),\n",
    "    ('pca', PCA(n_components=22))\n",
    "])\n",
    "\n",
    "# train_set = pipe.fit_transform(train_set)\n"
   ]
  },
  {
   "cell_type": "markdown",
   "metadata": {
    "cell_id": "18c2491848534ee9858bfb001083c0be",
    "deepnote_cell_type": "markdown",
    "id": "SXoCqMztjhr-"
   },
   "source": [
    "or create your own here"
   ]
  },
  {
   "cell_type": "code",
   "execution_count": 19,
   "metadata": {
    "cell_id": "70d905edb5d242a28194e702cab539c4",
    "deepnote_cell_type": "code",
    "execution_context_id": "04725a34-2a32-4263-b40d-c6a9b3bddd84",
    "execution_millis": 27251,
    "execution_start": 1734264492080,
    "id": "9s56aFFxLfHd",
    "source_hash": "af029bae"
   },
   "outputs": [
    {
     "name": "stderr",
     "output_type": "stream",
     "text": [
      "C:\\Users\\ASUS\\AppData\\Roaming\\Python\\Python312\\site-packages\\sklearn\\preprocessing\\_encoders.py:975: FutureWarning: `sparse` was renamed to `sparse_output` in version 1.2 and will be removed in 1.4. `sparse_output` is ignored unless you leave `sparse` to its default value.\n",
      "  warnings.warn(\n",
      "C:\\Users\\ASUS\\AppData\\Roaming\\Python\\Python312\\site-packages\\sklearn\\preprocessing\\_encoders.py:228: UserWarning: Found unknown categories in columns [0] during transform. These unknown categories will be encoded as all zeros\n",
      "  warnings.warn(\n"
     ]
    },
    {
     "name": "stdout",
     "output_type": "stream",
     "text": [
      "[[ 2.46672211e+00 -2.23407908e+00  1.23685967e+00 ... -1.35552973e-01\n",
      "   1.93613821e-01 -4.64012057e-01]\n",
      " [-1.73400528e+00 -1.99884493e+00 -2.65237260e+00 ... -5.22653927e-02\n",
      "   7.28777940e-02 -2.59544193e-02]\n",
      " [-5.63894575e+00  1.52746361e+00  2.29640024e+00 ...  1.63093265e-01\n",
      "  -3.73485262e-02  4.09871618e-02]\n",
      " ...\n",
      " [-1.95404127e+00 -1.56789462e+00 -2.75500508e+00 ... -1.16542351e-01\n",
      "  -3.37323121e-01  4.25325509e-02]\n",
      " [ 1.72581068e+00 -2.10001095e+00 -4.88367367e-01 ... -6.37170765e-01\n",
      "   1.23726420e-01 -2.53150016e-01]\n",
      " [ 3.79662430e+00 -3.08601465e+00  2.45991251e+00 ...  3.92921795e-03\n",
      "   1.13534482e-01  9.90404665e-02]]\n",
      "['Normal' 'Exploits' 'Generic' ... 'Worms' 'Worms' 'Worms']\n",
      "[[-5.46439864  0.85913167  1.21823026 ... -0.68868654 -0.0279943\n",
      "  -0.19512542]\n",
      " [-4.29189915  1.1047322   1.01179161 ...  0.11437868 -0.07716491\n",
      "   0.02567534]\n",
      " [-1.7629072  -1.58164173 -1.71365954 ...  0.38365346 -0.23339755\n",
      "   1.60503513]\n",
      " ...\n",
      " [-0.14193114  1.17914682 -2.72967874 ...  0.73179473  0.60631513\n",
      "  -0.52212189]\n",
      " [ 5.74021914 -1.12959581  2.2159007  ...  0.18224981  0.40015516\n",
      "   0.47560233]\n",
      " [ 3.9497743   4.36380667 -1.15658216 ...  0.31142633 -0.29995843\n",
      "  -0.16256064]]\n"
     ]
    }
   ],
   "source": [
    "# Transformasi dataset menggunakan preprocessor\n",
    "# pake preprocessor kalo mau nyoba plot pca\n",
    "train_df_transformed = pipeline.fit_transform(train_df)\n",
    "val_df_transformed = pipeline.transform(val_df)\n",
    "target_col = 'attack_cat'\n",
    "# Ubah target menjadi numpy array karena library scikit-learn membutuhkan format ini\n",
    "X_train = train_df_transformed\n",
    "y_train = train_df[target_col].to_numpy()\n",
    "\n",
    "X_val = val_df_transformed\n",
    "y_val = val_df[target_col].to_numpy()\n",
    "\n",
    "# Menggunakan class HandleImbalancedDataset\n",
    "handle_imbalance = HandleImbalancedDataset(strategy='smote', class_weight='balanced')\n",
    "\n",
    "# Resample data (menggunakan class yang dibuat)\n",
    "X_train_balanced, y_train_balanced = handle_imbalance.fit_transform(X_train, y_train)\n",
    "\n",
    "print(X_train_balanced)\n",
    "print(y_train_balanced)\n",
    "print(X_val)"
   ]
  },
  {
   "cell_type": "code",
   "execution_count": 20,
   "metadata": {
    "cell_id": "e3d7081ab955423985902f3f96e12c12",
    "deepnote_cell_type": "code",
    "deepnote_to_be_reexecuted": true,
    "execution_context_id": "06a27d34-509d-447c-bf7d-50600edeb8e9",
    "execution_millis": 1,
    "execution_start": 1734249341818,
    "id": "7OoZ3oXEj2CW",
    "source_hash": "c14465f9"
   },
   "outputs": [],
   "source": [
    "# Write your code here"
   ]
  },
  {
   "cell_type": "markdown",
   "metadata": {
    "cell_id": "cc144021535f4e8183bdddc1be73e99b",
    "deepnote_cell_type": "markdown",
    "id": "9A3adbZXLfHe"
   },
   "source": [
    "# 4. Modeling and Validation\n",
    "\n",
    "Modelling is the process of building your own machine learning models to solve specific problems, or in this assignment context, predicting the target feature `attack_cat`. Validation is the process of evaluating your trained model using the validation set or cross-validation method and providing some metrics that can help you decide what to do in the next iteration of development."
   ]
  },
  {
   "cell_type": "markdown",
   "metadata": {
    "cell_id": "9043fb6847d840a59df3746ea37fba02",
    "deepnote_cell_type": "markdown",
    "id": "ZnhMNbBILfHf"
   },
   "source": [
    "## A. KNN"
   ]
  },
  {
   "cell_type": "code",
   "execution_count": 21,
   "metadata": {
    "cell_id": "f999b8d746c2409c94f912805fcf8182",
    "deepnote_cell_type": "code",
    "execution_context_id": "04725a34-2a32-4263-b40d-c6a9b3bddd84",
    "execution_millis": 6963,
    "execution_start": 1734261717718,
    "source_hash": "2b9cf326"
   },
   "outputs": [
    {
     "name": "stdout",
     "output_type": "stream",
     "text": [
      "Defaulting to user installation because normal site-packages is not writeable"
     ]
    },
    {
     "name": "stderr",
     "output_type": "stream",
     "text": [
      "\n",
      "[notice] A new release of pip is available: 24.0 -> 24.3.1\n",
      "[notice] To update, run: python.exe -m pip install --upgrade pip\n"
     ]
    },
    {
     "name": "stdout",
     "output_type": "stream",
     "text": [
      "\n",
      "Collecting numba\n",
      "  Downloading numba-0.60.0-cp312-cp312-win_amd64.whl.metadata (2.8 kB)\n",
      "Collecting llvmlite<0.44,>=0.43.0dev0 (from numba)\n",
      "  Downloading llvmlite-0.43.0-cp312-cp312-win_amd64.whl.metadata (4.9 kB)\n",
      "Requirement already satisfied: numpy<2.1,>=1.22 in c:\\users\\asus\\appdata\\roaming\\python\\python312\\site-packages (from numba) (1.26.1)\n",
      "Downloading numba-0.60.0-cp312-cp312-win_amd64.whl (2.7 MB)\n",
      "   ---------------------------------------- 0.0/2.7 MB ? eta -:--:--\n",
      "   ---------------------------------------- 0.0/2.7 MB ? eta -:--:--\n",
      "    --------------------------------------- 0.1/2.7 MB 825.8 kB/s eta 0:00:04\n",
      "   --- ------------------------------------ 0.2/2.7 MB 1.8 MB/s eta 0:00:02\n",
      "   ----- ---------------------------------- 0.4/2.7 MB 2.4 MB/s eta 0:00:01\n",
      "   ------- -------------------------------- 0.5/2.7 MB 2.5 MB/s eta 0:00:01\n",
      "   ----------- ---------------------------- 0.8/2.7 MB 2.8 MB/s eta 0:00:01\n",
      "   ------------- -------------------------- 0.9/2.7 MB 3.0 MB/s eta 0:00:01\n",
      "   ----------------- ---------------------- 1.2/2.7 MB 3.5 MB/s eta 0:00:01\n",
      "   ------------------- -------------------- 1.3/2.7 MB 3.4 MB/s eta 0:00:01\n",
      "   ---------------------- ----------------- 1.6/2.7 MB 3.5 MB/s eta 0:00:01\n",
      "   ------------------------ --------------- 1.6/2.7 MB 3.5 MB/s eta 0:00:01\n",
      "   ------------------------------ --------- 2.0/2.7 MB 3.8 MB/s eta 0:00:01\n",
      "   --------------------------------- ------ 2.3/2.7 MB 3.9 MB/s eta 0:00:01\n",
      "   ------------------------------------- -- 2.5/2.7 MB 4.0 MB/s eta 0:00:01\n",
      "   ---------------------------------------  2.7/2.7 MB 3.9 MB/s eta 0:00:01\n",
      "   ---------------------------------------- 2.7/2.7 MB 3.8 MB/s eta 0:00:00\n",
      "Downloading llvmlite-0.43.0-cp312-cp312-win_amd64.whl (28.1 MB)\n",
      "   ---------------------------------------- 0.0/28.1 MB ? eta -:--:--\n",
      "   ---------------------------------------- 0.3/28.1 MB 7.7 MB/s eta 0:00:04\n",
      "    --------------------------------------- 0.4/28.1 MB 5.1 MB/s eta 0:00:06\n",
      "    --------------------------------------- 0.6/28.1 MB 5.0 MB/s eta 0:00:06\n",
      "   - -------------------------------------- 0.9/28.1 MB 5.0 MB/s eta 0:00:06\n",
      "   - -------------------------------------- 1.2/28.1 MB 5.2 MB/s eta 0:00:06\n",
      "   - -------------------------------------- 1.4/28.1 MB 5.2 MB/s eta 0:00:06\n",
      "   -- ------------------------------------- 1.6/28.1 MB 5.2 MB/s eta 0:00:06\n",
      "   -- ------------------------------------- 1.8/28.1 MB 5.1 MB/s eta 0:00:06\n",
      "   -- ------------------------------------- 2.0/28.1 MB 5.0 MB/s eta 0:00:06\n",
      "   --- ------------------------------------ 2.3/28.1 MB 5.0 MB/s eta 0:00:06\n",
      "   --- ------------------------------------ 2.5/28.1 MB 5.1 MB/s eta 0:00:06\n",
      "   ---- ----------------------------------- 2.8/28.1 MB 5.2 MB/s eta 0:00:05\n",
      "   ---- ----------------------------------- 3.0/28.1 MB 5.1 MB/s eta 0:00:05\n",
      "   ---- ----------------------------------- 3.3/28.1 MB 5.2 MB/s eta 0:00:05\n",
      "   ----- ---------------------------------- 3.6/28.1 MB 5.3 MB/s eta 0:00:05\n",
      "   ----- ---------------------------------- 3.9/28.1 MB 5.3 MB/s eta 0:00:05\n",
      "   ------ --------------------------------- 4.3/28.1 MB 5.4 MB/s eta 0:00:05\n",
      "   ------ --------------------------------- 4.5/28.1 MB 5.5 MB/s eta 0:00:05\n",
      "   ------ --------------------------------- 4.7/28.1 MB 5.4 MB/s eta 0:00:05\n",
      "   ------- -------------------------------- 5.0/28.1 MB 5.5 MB/s eta 0:00:05\n",
      "   ------- -------------------------------- 5.4/28.1 MB 5.5 MB/s eta 0:00:05\n",
      "   ------- -------------------------------- 5.6/28.1 MB 5.5 MB/s eta 0:00:05\n",
      "   -------- ------------------------------- 5.8/28.1 MB 5.5 MB/s eta 0:00:05\n",
      "   -------- ------------------------------- 6.2/28.1 MB 5.6 MB/s eta 0:00:04\n",
      "   --------- ------------------------------ 6.3/28.1 MB 5.5 MB/s eta 0:00:04\n",
      "   --------- ------------------------------ 6.6/28.1 MB 5.5 MB/s eta 0:00:04\n",
      "   --------- ------------------------------ 6.8/28.1 MB 5.4 MB/s eta 0:00:04\n",
      "   ---------- ----------------------------- 7.1/28.1 MB 5.6 MB/s eta 0:00:04\n",
      "   ---------- ----------------------------- 7.4/28.1 MB 5.5 MB/s eta 0:00:04\n",
      "   ---------- ----------------------------- 7.6/28.1 MB 5.5 MB/s eta 0:00:04\n",
      "   ----------- ---------------------------- 7.9/28.1 MB 5.5 MB/s eta 0:00:04\n",
      "   ----------- ---------------------------- 8.2/28.1 MB 5.5 MB/s eta 0:00:04\n",
      "   ----------- ---------------------------- 8.4/28.1 MB 5.5 MB/s eta 0:00:04\n",
      "   ------------ --------------------------- 8.6/28.1 MB 5.5 MB/s eta 0:00:04\n",
      "   ------------ --------------------------- 8.8/28.1 MB 5.4 MB/s eta 0:00:04\n",
      "   ------------ --------------------------- 9.1/28.1 MB 5.5 MB/s eta 0:00:04\n",
      "   ------------- -------------------------- 9.4/28.1 MB 5.5 MB/s eta 0:00:04\n",
      "   ------------- -------------------------- 9.6/28.1 MB 5.5 MB/s eta 0:00:04\n",
      "   -------------- ------------------------- 9.9/28.1 MB 5.5 MB/s eta 0:00:04\n",
      "   -------------- ------------------------- 10.2/28.1 MB 5.5 MB/s eta 0:00:04\n",
      "   -------------- ------------------------- 10.4/28.1 MB 5.5 MB/s eta 0:00:04\n",
      "   --------------- ------------------------ 10.7/28.1 MB 5.5 MB/s eta 0:00:04\n",
      "   --------------- ------------------------ 10.9/28.1 MB 5.5 MB/s eta 0:00:04\n",
      "   --------------- ------------------------ 11.1/28.1 MB 5.5 MB/s eta 0:00:04\n",
      "   ---------------- ----------------------- 11.4/28.1 MB 5.6 MB/s eta 0:00:03\n",
      "   ---------------- ----------------------- 11.7/28.1 MB 5.6 MB/s eta 0:00:03\n",
      "   ---------------- ----------------------- 11.9/28.1 MB 5.5 MB/s eta 0:00:03\n",
      "   ----------------- ---------------------- 12.2/28.1 MB 5.6 MB/s eta 0:00:03\n",
      "   ----------------- ---------------------- 12.4/28.1 MB 5.5 MB/s eta 0:00:03\n",
      "   ----------------- ---------------------- 12.6/28.1 MB 5.6 MB/s eta 0:00:03\n",
      "   ------------------ --------------------- 12.9/28.1 MB 5.5 MB/s eta 0:00:03\n",
      "   ------------------ --------------------- 13.1/28.1 MB 5.6 MB/s eta 0:00:03\n",
      "   ------------------ --------------------- 13.3/28.1 MB 5.5 MB/s eta 0:00:03\n",
      "   ------------------- -------------------- 13.5/28.1 MB 5.4 MB/s eta 0:00:03\n",
      "   ------------------- -------------------- 13.8/28.1 MB 5.5 MB/s eta 0:00:03\n",
      "   ------------------- -------------------- 14.0/28.1 MB 5.4 MB/s eta 0:00:03\n",
      "   -------------------- ------------------- 14.3/28.1 MB 5.5 MB/s eta 0:00:03\n",
      "   -------------------- ------------------- 14.6/28.1 MB 5.4 MB/s eta 0:00:03\n",
      "   --------------------- ------------------ 14.9/28.1 MB 5.5 MB/s eta 0:00:03\n",
      "   --------------------- ------------------ 15.2/28.1 MB 5.5 MB/s eta 0:00:03\n",
      "   ---------------------- ----------------- 15.5/28.1 MB 5.5 MB/s eta 0:00:03\n",
      "   ---------------------- ----------------- 15.9/28.1 MB 5.5 MB/s eta 0:00:03\n",
      "   ---------------------- ----------------- 16.1/28.1 MB 5.5 MB/s eta 0:00:03\n",
      "   ----------------------- ---------------- 16.3/28.1 MB 5.5 MB/s eta 0:00:03\n",
      "   ----------------------- ---------------- 16.6/28.1 MB 5.5 MB/s eta 0:00:03\n",
      "   ----------------------- ---------------- 16.8/28.1 MB 5.5 MB/s eta 0:00:03\n",
      "   ------------------------ --------------- 17.1/28.1 MB 5.5 MB/s eta 0:00:03\n",
      "   ------------------------ --------------- 17.4/28.1 MB 5.5 MB/s eta 0:00:02\n",
      "   ------------------------- -------------- 17.7/28.1 MB 5.5 MB/s eta 0:00:02\n",
      "   ------------------------- -------------- 17.8/28.1 MB 5.5 MB/s eta 0:00:02\n",
      "   ------------------------- -------------- 18.1/28.1 MB 5.5 MB/s eta 0:00:02\n",
      "   -------------------------- ------------- 18.3/28.1 MB 5.5 MB/s eta 0:00:02\n",
      "   -------------------------- ------------- 18.5/28.1 MB 5.5 MB/s eta 0:00:02\n",
      "   -------------------------- ------------- 18.6/28.1 MB 5.3 MB/s eta 0:00:02\n",
      "   -------------------------- ------------- 18.8/28.1 MB 5.3 MB/s eta 0:00:02\n",
      "   -------------------------- ------------- 19.0/28.1 MB 5.3 MB/s eta 0:00:02\n",
      "   --------------------------- ------------ 19.3/28.1 MB 5.3 MB/s eta 0:00:02\n",
      "   --------------------------- ------------ 19.5/28.1 MB 5.3 MB/s eta 0:00:02\n",
      "   ---------------------------- ----------- 19.8/28.1 MB 5.4 MB/s eta 0:00:02\n",
      "   ---------------------------- ----------- 20.1/28.1 MB 5.4 MB/s eta 0:00:02\n",
      "   ---------------------------- ----------- 20.3/28.1 MB 5.3 MB/s eta 0:00:02\n",
      "   ----------------------------- ---------- 20.6/28.1 MB 5.3 MB/s eta 0:00:02\n",
      "   ----------------------------- ---------- 20.9/28.1 MB 5.3 MB/s eta 0:00:02\n",
      "   ------------------------------ --------- 21.1/28.1 MB 5.4 MB/s eta 0:00:02\n",
      "   ------------------------------ --------- 21.3/28.1 MB 5.3 MB/s eta 0:00:02\n",
      "   ------------------------------ --------- 21.5/28.1 MB 5.3 MB/s eta 0:00:02\n",
      "   ------------------------------ --------- 21.6/28.1 MB 5.2 MB/s eta 0:00:02\n",
      "   ------------------------------- -------- 21.9/28.1 MB 5.2 MB/s eta 0:00:02\n",
      "   ------------------------------- -------- 22.2/28.1 MB 5.2 MB/s eta 0:00:02\n",
      "   ------------------------------- -------- 22.4/28.1 MB 5.2 MB/s eta 0:00:02\n",
      "   -------------------------------- ------- 22.6/28.1 MB 5.2 MB/s eta 0:00:02\n",
      "   -------------------------------- ------- 22.9/28.1 MB 5.2 MB/s eta 0:00:01\n",
      "   --------------------------------- ------ 23.2/28.1 MB 5.3 MB/s eta 0:00:01\n",
      "   --------------------------------- ------ 23.5/28.1 MB 5.4 MB/s eta 0:00:01\n",
      "   --------------------------------- ------ 23.8/28.1 MB 5.4 MB/s eta 0:00:01\n",
      "   ---------------------------------- ----- 24.1/28.1 MB 5.4 MB/s eta 0:00:01\n",
      "   ---------------------------------- ----- 24.4/28.1 MB 5.4 MB/s eta 0:00:01\n",
      "   ---------------------------------- ----- 24.5/28.1 MB 5.3 MB/s eta 0:00:01\n",
      "   ----------------------------------- ---- 24.9/28.1 MB 5.4 MB/s eta 0:00:01\n",
      "   ----------------------------------- ---- 25.1/28.1 MB 5.4 MB/s eta 0:00:01\n",
      "   ----------------------------------- ---- 25.3/28.1 MB 5.3 MB/s eta 0:00:01\n",
      "   ------------------------------------ --- 25.5/28.1 MB 5.2 MB/s eta 0:00:01\n",
      "   ------------------------------------ --- 25.8/28.1 MB 5.2 MB/s eta 0:00:01\n",
      "   ------------------------------------ --- 26.0/28.1 MB 5.2 MB/s eta 0:00:01\n",
      "   ------------------------------------- -- 26.2/28.1 MB 5.2 MB/s eta 0:00:01\n",
      "   ------------------------------------- -- 26.5/28.1 MB 5.2 MB/s eta 0:00:01\n",
      "   -------------------------------------- - 26.7/28.1 MB 5.2 MB/s eta 0:00:01\n",
      "   -------------------------------------- - 27.0/28.1 MB 5.2 MB/s eta 0:00:01\n",
      "   -------------------------------------- - 27.3/28.1 MB 5.2 MB/s eta 0:00:01\n",
      "   ---------------------------------------  27.6/28.1 MB 5.2 MB/s eta 0:00:01\n",
      "   ---------------------------------------  27.8/28.1 MB 5.2 MB/s eta 0:00:01\n",
      "   ---------------------------------------  28.1/28.1 MB 5.3 MB/s eta 0:00:01\n",
      "   ---------------------------------------  28.1/28.1 MB 5.2 MB/s eta 0:00:01\n",
      "   ---------------------------------------  28.1/28.1 MB 5.2 MB/s eta 0:00:01\n",
      "   ---------------------------------------- 28.1/28.1 MB 4.9 MB/s eta 0:00:00\n",
      "Installing collected packages: llvmlite, numba\n",
      "Successfully installed llvmlite-0.43.0 numba-0.60.0\n"
     ]
    }
   ],
   "source": [
    "!pip install numba"
   ]
  },
  {
   "cell_type": "code",
   "execution_count": 22,
   "metadata": {
    "cell_id": "39aac24c86d5407f81b1903c2f0669e5",
    "deepnote_cell_type": "code",
    "execution_context_id": "04725a34-2a32-4263-b40d-c6a9b3bddd84",
    "execution_millis": 21426,
    "execution_start": 1734261308748,
    "id": "KV6ICmFmlqjk",
    "source_hash": "aa86972f"
   },
   "outputs": [
    {
     "name": "stdout",
     "output_type": "stream",
     "text": [
      "Akurasi KNN: 0.7472126379423423\n",
      "Classification Report KNN:\n",
      "                 precision    recall  f1-score   support\n",
      "\n",
      "      Analysis       0.13      0.15      0.14       384\n",
      "      Backdoor       0.08      0.06      0.07       367\n",
      "           DoS       0.30      0.36      0.33      2459\n",
      "      Exploits       0.62      0.67      0.65      6636\n",
      "       Fuzzers       0.54      0.61      0.57      3637\n",
      "       Generic       0.99      0.97      0.98      7975\n",
      "        Normal       0.91      0.86      0.88     11254\n",
      "Reconnaissance       0.65      0.55      0.60      2070\n",
      "     Shellcode       0.33      0.05      0.09       259\n",
      "         Worms       0.60      0.11      0.18        28\n",
      "\n",
      "      accuracy                           0.75     35069\n",
      "     macro avg       0.52      0.44      0.45     35069\n",
      "  weighted avg       0.76      0.75      0.75     35069\n",
      "\n"
     ]
    }
   ],
   "source": [
    "# Type your code here\n",
    "from sklearn.neighbors import KNeighborsClassifier\n",
    "from sklearn.metrics import accuracy_score, classification_report\n",
    "\n",
    "knn = KNeighborsClassifier(n_neighbors=4)\n",
    "knn.fit(X_train, y_train)\n",
    "\n",
    "# Prediksi dengan data validasi\n",
    "y_pred_knn = knn.predict(X_val)\n",
    "print(\"Akurasi KNN:\", accuracy_score(y_val, y_pred_knn))\n",
    "print(\"Classification Report KNN:\\n\", classification_report(y_val, y_pred_knn))"
   ]
  },
  {
   "cell_type": "code",
   "execution_count": 23,
   "metadata": {
    "cell_id": "812890aecb7547f092425cbc23ef2c4c",
    "deepnote_cell_type": "code",
    "execution_context_id": "ec99f6db-1753-43d5-af40-8a9b56e3698b",
    "execution_millis": 0,
    "execution_start": 1734253674847,
    "source_hash": "f6c69f4f"
   },
   "outputs": [],
   "source": [
    "import numpy as np\n",
    "from numba import njit, jit\n",
    "from collections import Counter\n",
    "\n",
    "@njit(fastmath=True, cache=True)\n",
    "def euclidean_distance(x1, x2):\n",
    "    return np.sqrt(np.sum((x1 - x2) ** 2))\n",
    "\n",
    "@njit(fastmath=True, cache=True)\n",
    "def find_k_nearest_neighbors(X_train, x, k):\n",
    "    distances = np.zeros(X_train.shape[0])\n",
    "    for i in range(X_train.shape[0]):\n",
    "        distances[i] = euclidean_distance(x, X_train[i])\n",
    "    return np.argsort(distances)[:k]\n",
    "\n",
    "class KNN:\n",
    "    def __init__(self, k=3):\n",
    "        self.k = k\n",
    "        self.X_train = None\n",
    "        self.y_train = None\n",
    "        self.label_mapping = None\n",
    "    \n",
    "    def fit(self, X, y):\n",
    "        self.X_train = np.asarray(X, dtype=np.float64)\n",
    "\n",
    "        unique_labels = np.unique(y)\n",
    "        self.label_mapping = {label: idx for idx, label in enumerate(unique_labels)}\n",
    "\n",
    "        self.y_train = np.array([self.label_mapping[label] for label in y], dtype=np.int64)\n",
    "        \n",
    "        return self\n",
    "    \n",
    "    def predict(self, X):\n",
    "        X = np.asarray(X, dtype=np.float64)\n",
    "\n",
    "        predictions = np.zeros(X.shape[0], dtype=np.int64)\n",
    "\n",
    "        for i in range(X.shape[0]):\n",
    "            k_indices = find_k_nearest_neighbors(self.X_train, X[i], self.k)\n",
    "\n",
    "            k_nearest_labels = self.y_train[k_indices]\n",
    "\n",
    "            label_counts = Counter(k_nearest_labels)\n",
    "            predictions[i] = max(label_counts, key=label_counts.get)\n",
    "            if i%100 == 0:\n",
    "                print(i)\n",
    "        # decode\n",
    "        reverse_mapping = {idx: label for label, idx in self.label_mapping.items()}\n",
    "        return np.array([reverse_mapping[pred] for pred in predictions])"
   ]
  },
  {
   "cell_type": "code",
   "execution_count": 24,
   "metadata": {
    "cell_id": "5533d4dbf981484b81a762b585c178fe",
    "deepnote_cell_type": "code",
    "execution_context_id": "ec99f6db-1753-43d5-af40-8a9b56e3698b",
    "execution_millis": 25,
    "execution_start": 1734253682694,
    "source_hash": "bc74b843"
   },
   "outputs": [
    {
     "name": "stdout",
     "output_type": "stream",
     "text": [
      "131\n",
      "122\n",
      "0\n",
      "100\n",
      "200\n",
      "300\n",
      "400\n",
      "500\n",
      "600\n",
      "700\n",
      "800\n",
      "900\n",
      "1000\n",
      "1100\n",
      "1200\n",
      "1300\n",
      "1400\n",
      "1500\n",
      "1600\n",
      "1700\n",
      "1800\n",
      "1900\n",
      "2000\n",
      "2100\n",
      "2200\n",
      "2300\n",
      "2400\n",
      "2500\n",
      "2600\n",
      "2700\n",
      "2800\n",
      "2900\n",
      "3000\n",
      "3100\n",
      "3200\n",
      "3300\n"
     ]
    },
    {
     "ename": "KeyboardInterrupt",
     "evalue": "",
     "output_type": "error",
     "traceback": [
      "\u001b[1;31m---------------------------------------------------------------------------\u001b[0m",
      "\u001b[1;31mKeyboardInterrupt\u001b[0m                         Traceback (most recent call last)",
      "Cell \u001b[1;32mIn[24], line 10\u001b[0m\n\u001b[0;32m      6\u001b[0m \u001b[38;5;28mprint\u001b[39m(\u001b[38;5;241m122\u001b[39m)\n\u001b[0;32m      7\u001b[0m \u001b[38;5;66;03m# load\u001b[39;00m\n\u001b[0;32m      8\u001b[0m \u001b[38;5;66;03m#import joblib\u001b[39;00m\n\u001b[0;32m      9\u001b[0m \u001b[38;5;66;03m#clifier = joblib.load('knn.pkl')\u001b[39;00m\n\u001b[1;32m---> 10\u001b[0m y_pred \u001b[38;5;241m=\u001b[39m \u001b[43mclifier\u001b[49m\u001b[38;5;241;43m.\u001b[39;49m\u001b[43mpredict\u001b[49m\u001b[43m(\u001b[49m\u001b[43mX_val\u001b[49m\u001b[43m)\u001b[49m\n\u001b[0;32m     11\u001b[0m accuracy \u001b[38;5;241m=\u001b[39m accuracy_score(y_val, y_pred)\n\u001b[0;32m     12\u001b[0m \u001b[38;5;28mprint\u001b[39m(\u001b[38;5;124mf\u001b[39m\u001b[38;5;124m\"\u001b[39m\u001b[38;5;124mAccuracy: \u001b[39m\u001b[38;5;132;01m{\u001b[39;00maccuracy\u001b[38;5;132;01m}\u001b[39;00m\u001b[38;5;124m\"\u001b[39m)\n",
      "Cell \u001b[1;32mIn[23], line 39\u001b[0m, in \u001b[0;36mKNN.predict\u001b[1;34m(self, X)\u001b[0m\n\u001b[0;32m     36\u001b[0m predictions \u001b[38;5;241m=\u001b[39m np\u001b[38;5;241m.\u001b[39mzeros(X\u001b[38;5;241m.\u001b[39mshape[\u001b[38;5;241m0\u001b[39m], dtype\u001b[38;5;241m=\u001b[39mnp\u001b[38;5;241m.\u001b[39mint64)\n\u001b[0;32m     38\u001b[0m \u001b[38;5;28;01mfor\u001b[39;00m i \u001b[38;5;129;01min\u001b[39;00m \u001b[38;5;28mrange\u001b[39m(X\u001b[38;5;241m.\u001b[39mshape[\u001b[38;5;241m0\u001b[39m]):\n\u001b[1;32m---> 39\u001b[0m     k_indices \u001b[38;5;241m=\u001b[39m \u001b[43mfind_k_nearest_neighbors\u001b[49m\u001b[43m(\u001b[49m\u001b[38;5;28;43mself\u001b[39;49m\u001b[38;5;241;43m.\u001b[39;49m\u001b[43mX_train\u001b[49m\u001b[43m,\u001b[49m\u001b[43m \u001b[49m\u001b[43mX\u001b[49m\u001b[43m[\u001b[49m\u001b[43mi\u001b[49m\u001b[43m]\u001b[49m\u001b[43m,\u001b[49m\u001b[43m \u001b[49m\u001b[38;5;28;43mself\u001b[39;49m\u001b[38;5;241;43m.\u001b[39;49m\u001b[43mk\u001b[49m\u001b[43m)\u001b[49m\n\u001b[0;32m     41\u001b[0m     k_nearest_labels \u001b[38;5;241m=\u001b[39m \u001b[38;5;28mself\u001b[39m\u001b[38;5;241m.\u001b[39my_train[k_indices]\n\u001b[0;32m     43\u001b[0m     label_counts \u001b[38;5;241m=\u001b[39m Counter(k_nearest_labels)\n",
      "\u001b[1;31mKeyboardInterrupt\u001b[0m: "
     ]
    }
   ],
   "source": [
    "#15 menitan\n",
    "from sklearn.metrics import accuracy_score\n",
    "clifier = KNN(k=4)\n",
    "print(131)\n",
    "clifier.fit(X_train, y_train)\n",
    "print(122)\n",
    "# load\n",
    "#import joblib\n",
    "#clifier = joblib.load('knn.pkl')\n",
    "y_pred = clifier.predict(X_val)\n",
    "accuracy = accuracy_score(y_val, y_pred)\n",
    "print(f\"Accuracy: {accuracy}\")\n",
    "print(classification_report(y_val, y_pred))"
   ]
  },
  {
   "cell_type": "code",
   "execution_count": null,
   "metadata": {
    "cell_id": "125a5538075c49b18d5c1e0f08cc89c7",
    "deepnote_cell_type": "code",
    "execution_context_id": "ec99f6db-1753-43d5-af40-8a9b56e3698b",
    "execution_millis": 861,
    "execution_start": 1734253688821,
    "source_hash": "8b836f56"
   },
   "outputs": [
    {
     "data": {
      "text/plain": [
       "['knn.pkl']"
      ]
     },
     "execution_count": 117,
     "metadata": {},
     "output_type": "execute_result"
    }
   ],
   "source": [
    "import joblib\n",
    "joblib.dump(clifier, 'knn.pkl')"
   ]
  },
  {
   "cell_type": "markdown",
   "metadata": {
    "cell_id": "6e20eea8a8104894ad166798cd74244e",
    "deepnote_cell_type": "markdown",
    "id": "nW0bMzkDLfHf"
   },
   "source": [
    "## B. Naive Bayes"
   ]
  },
  {
   "cell_type": "code",
   "execution_count": 34,
   "metadata": {
    "cell_id": "e6fc6f7a077a4f0699221513d08c15a0",
    "deepnote_cell_type": "code",
    "execution_context_id": "ec99f6db-1753-43d5-af40-8a9b56e3698b",
    "execution_millis": 6933,
    "execution_start": 1734251059847,
    "source_hash": "fceb7326"
   },
   "outputs": [
    {
     "name": "stdout",
     "output_type": "stream",
     "text": [
      "Accuracy: 0.6649747640366135\n",
      "Classification Report:\n",
      "                precision    recall  f1-score   support\n",
      "\n",
      "      Analysis       0.00      0.00      0.00       384\n",
      "      Backdoor       0.06      0.03      0.04       367\n",
      "           DoS       0.26      0.68      0.38      2459\n",
      "      Exploits       0.63      0.43      0.51      6636\n",
      "       Fuzzers       0.41      0.40      0.41      3637\n",
      "       Generic       0.98      0.94      0.96      7975\n",
      "        Normal       0.91      0.78      0.84     11254\n",
      "Reconnaissance       0.34      0.51      0.41      2070\n",
      "     Shellcode       0.33      0.00      0.01       259\n",
      "         Worms       0.31      0.18      0.23        28\n",
      "\n",
      "      accuracy                           0.66     35069\n",
      "     macro avg       0.42      0.39      0.38     35069\n",
      "  weighted avg       0.72      0.66      0.68     35069\n",
      "\n"
     ]
    }
   ],
   "source": [
    "import joblib\n",
    "nb_load = joblib.load('nb.pkl')\n",
    "\n",
    "# Predict on the test data\n",
    "y_pred = nb_load.predict(X_val)\n",
    "\n",
    "# Evaluate the model\n",
    "accuracy = accuracy_score(y_val, y_pred)\n",
    "print(f\"Accuracy: {accuracy}\")\n",
    "print(\"Classification Report:\")\n",
    "print(classification_report(y_val, y_pred))"
   ]
  },
  {
   "cell_type": "code",
   "execution_count": 28,
   "metadata": {
    "cell_id": "75427f79e1eb42f1957c189f2508ba33",
    "deepnote_cell_type": "code",
    "execution_context_id": "04725a34-2a32-4263-b40d-c6a9b3bddd84",
    "execution_millis": 5445,
    "execution_start": 1734262152535,
    "source_hash": "185cf2cd"
   },
   "outputs": [
    {
     "name": "stdout",
     "output_type": "stream",
     "text": [
      "Accuracy: 0.6649747640366135\n",
      "Classification Report:\n",
      "                precision    recall  f1-score   support\n",
      "\n",
      "      Analysis       0.00      0.00      0.00       384\n",
      "      Backdoor       0.06      0.03      0.04       367\n",
      "           DoS       0.26      0.68      0.38      2459\n",
      "      Exploits       0.63      0.43      0.51      6636\n",
      "       Fuzzers       0.41      0.40      0.41      3637\n",
      "       Generic       0.98      0.94      0.96      7975\n",
      "        Normal       0.91      0.78      0.84     11254\n",
      "Reconnaissance       0.34      0.51      0.41      2070\n",
      "     Shellcode       0.33      0.00      0.01       259\n",
      "         Worms       0.31      0.18      0.23        28\n",
      "\n",
      "      accuracy                           0.66     35069\n",
      "     macro avg       0.42      0.39      0.38     35069\n",
      "  weighted avg       0.72      0.66      0.68     35069\n",
      "\n"
     ]
    }
   ],
   "source": [
    "#buat naive bayes from scratch\n",
    "import numpy as np\n",
    "from sklearn.model_selection import train_test_split\n",
    "from sklearn.metrics import accuracy_score, classification_report\n",
    "\n",
    "class GaussianNBa:\n",
    "    def __init__(self):\n",
    "        self.classes = None\n",
    "        self.mean = None\n",
    "        self.var = None\n",
    "        self.priors = None\n",
    "\n",
    "    def fit(self, X, y):\n",
    "        total_samples, total_features = X.shape\n",
    "        self.classes = np.unique(y) #prior\n",
    "        total_classes = len(self.classes) \n",
    "\n",
    "        # Initialize mean, variance, and priors\n",
    "        self.mean = np.zeros((total_classes, total_features), dtype=np.float64)\n",
    "        self.var = np.zeros((total_classes, total_features), dtype=np.float64)\n",
    "        self.priors = np.zeros(total_classes, dtype=np.float64)\n",
    "\n",
    "        for idx, _class in enumerate(self.classes):\n",
    "            X_class = X[y == _class]\n",
    "            self.mean[idx, :] = X_class.mean(axis=0)\n",
    "            self.var[idx, :] = X_class.var(axis=0)\n",
    "            self.priors[idx] = X_class.shape[0] / total_samples\n",
    "\n",
    "    def predict(self, X):\n",
    "        y_pred = []\n",
    "        for x in X:\n",
    "            posteriors = []\n",
    "            for idx, cls in enumerate(self.classes):\n",
    "                prior = np.log(self.priors[idx])\n",
    "                prob_conditional = np.sum(np.log(self._probdensityfunc(idx, x)))\n",
    "                posterior = prior + prob_conditional\n",
    "                posteriors.append(posterior)\n",
    "\n",
    "            max_idx = self.classes[np.argmax(posteriors)]\n",
    "            y_pred.append(max_idx)\n",
    "        return np.array(y_pred)\n",
    "\n",
    "\n",
    "    def _probdensityfunc(self, class_idx, x):\n",
    "        mean = self.mean[class_idx]\n",
    "        var = self.var[class_idx]\n",
    "        numerator = np.exp(-(x - mean)**2 / (2 * var))\n",
    "        denominator = np.sqrt(2 * np.pi * var)\n",
    "        return numerator / denominator\n",
    "\n",
    "model = GaussianNBa()\n",
    "\n",
    "model.fit(X_train, y_train)\n",
    "\n",
    "y_pred = model.predict(X_val)\n",
    "\n",
    "accuracy = accuracy_score(y_val, y_pred)\n",
    "print(f\"Accuracy: {accuracy}\")\n",
    "print(\"Classification Report:\")\n",
    "print(classification_report(y_val, y_pred))"
   ]
  },
  {
   "cell_type": "code",
   "execution_count": 29,
   "metadata": {
    "cell_id": "b4aac79dbcd444199b2f7e7d0c8e5ecc",
    "deepnote_cell_type": "code",
    "execution_context_id": "ec99f6db-1753-43d5-af40-8a9b56e3698b",
    "execution_millis": 230,
    "execution_start": 1734253708873,
    "source_hash": "c70c233a"
   },
   "outputs": [
    {
     "data": {
      "text/plain": [
       "['nb.pkl']"
      ]
     },
     "execution_count": 29,
     "metadata": {},
     "output_type": "execute_result"
    }
   ],
   "source": [
    "joblib.dump(model, 'nb.pkl')"
   ]
  },
  {
   "cell_type": "code",
   "execution_count": 30,
   "metadata": {
    "cell_id": "3553509f9b3946b5b7f994039da34422",
    "deepnote_cell_type": "code",
    "execution_context_id": "04725a34-2a32-4263-b40d-c6a9b3bddd84",
    "execution_millis": 882,
    "execution_start": 1734262162582,
    "id": "C_XwsN_-LfHg",
    "source_hash": "b51a32de"
   },
   "outputs": [
    {
     "name": "stdout",
     "output_type": "stream",
     "text": [
      "Naive Bayes Probabilities:\n",
      " [[7.91606886e-07 2.97444392e-07 1.09370542e-05 1.45854858e-04\n",
      "  1.22126142e-06 9.99836118e-01 3.87282569e-06 9.02140337e-07\n",
      "  4.09122663e-09 9.05737441e-10]\n",
      " [4.13437849e-08 9.30713919e-08 2.16387448e-06 1.48694705e-05\n",
      "  5.62450774e-07 9.99977522e-01 3.79878843e-06 9.46634214e-07\n",
      "  7.09565415e-10 1.24733567e-09]\n",
      " [4.22314667e-02 6.00272232e-01 3.31141862e-01 1.12822682e-02\n",
      "  4.53284083e-03 2.85852669e-08 4.71724467e-03 5.63989132e-03\n",
      "  1.78223449e-04 3.94297213e-06]\n",
      " [1.14718809e-02 8.79151573e-02 4.75159233e-01 3.09349866e-01\n",
      "  9.25947436e-03 1.65852497e-08 2.70786027e-02 7.70842506e-02\n",
      "  2.67940920e-03 2.10884213e-06]\n",
      " [5.00796613e-06 2.58575393e-04 3.23512006e-03 7.26762255e-02\n",
      "  9.41587948e-03 8.15168816e-12 9.13922367e-01 5.79009051e-07\n",
      "  1.40347245e-07 4.86105139e-04]\n",
      " [3.10575178e-02 6.12057832e-06 1.59949413e-03 8.55878411e-01\n",
      "  1.60157723e-02 6.23299818e-19 9.36711341e-02 1.58105678e-03\n",
      "  1.00672207e-04 8.98215183e-05]\n",
      " [5.52598279e-02 6.91903182e-02 4.81066605e-01 7.04880408e-02\n",
      "  3.86764175e-02 7.41954007e-07 1.26132210e-02 2.41612456e-01\n",
      "  3.10887762e-02 3.59501056e-06]\n",
      " [2.09030190e-09 3.57984415e-09 5.15644042e-07 2.68746947e-04\n",
      "  2.34220067e-07 9.99672991e-01 5.74335127e-05 6.93458109e-08\n",
      "  5.41115331e-13 3.28753100e-09]\n",
      " [3.32243933e-08 3.57327833e-07 1.31942017e-05 2.22157169e-03\n",
      "  1.67545499e-04 5.32370734e-16 9.97594378e-01 1.64873080e-10\n",
      "  3.56869014e-12 2.91965831e-06]\n",
      " [1.57694564e-05 1.42331813e-02 5.32670896e-02 2.52254820e-01\n",
      "  3.66014072e-01 8.88461193e-26 3.13932221e-01 4.65599864e-07\n",
      "  5.12055648e-06 2.77261054e-04]\n",
      " [2.02862488e-04 1.59260180e-03 2.79191505e-03 2.48732052e-02\n",
      "  3.57807616e-01 2.46273369e-11 5.92571842e-01 1.60971069e-02\n",
      "  6.23557079e-04 3.43929426e-03]\n",
      " [5.97694152e-15 1.62285844e-13 9.13197288e-10 3.06863783e-03\n",
      "  6.48144684e-08 2.35849352e-23 9.96931233e-01 1.41789195e-12\n",
      "  2.04942072e-17 6.33453535e-08]\n",
      " [1.18197204e-02 4.24085157e-02 2.94144062e-01 1.10990008e-01\n",
      "  2.29121188e-02 3.42224603e-01 1.45719667e-02 1.54707367e-01\n",
      "  6.20735905e-03 1.42796107e-05]\n",
      " [7.65074220e-05 2.13930174e-09 4.58656284e-06 9.31358417e-01\n",
      "  3.18540119e-02 3.85695966e-36 3.66896727e-02 6.52522689e-06\n",
      "  2.31574605e-06 7.96115483e-06]\n",
      " [7.03288794e-06 1.02930303e-09 3.38456424e-06 9.42980581e-01\n",
      "  3.90070024e-03 1.40363517e-33 5.31058641e-02 1.73730634e-07\n",
      "  3.77539412e-07 1.88504171e-06]\n",
      " [4.00012401e-03 3.29733888e-03 1.49699179e-02 1.72131476e-01\n",
      "  2.88211205e-03 2.24701335e-15 8.02283220e-01 4.24408292e-04\n",
      "  1.11268602e-05 2.75668611e-07]\n",
      " [1.35275876e-03 5.36948508e-04 5.03375037e-03 7.76942422e-02\n",
      "  2.52949023e-01 4.70995433e-15 2.27370656e-02 4.71395337e-01\n",
      "  1.66505602e-01 1.79527238e-03]\n",
      " [2.36910765e-03 4.37134428e-04 6.86065160e-03 3.07254818e-01\n",
      "  2.72167833e-01 9.68804779e-15 1.09927772e-01 2.94146992e-01\n",
      "  6.09392351e-03 7.41767971e-04]\n",
      " [3.18067806e-08 9.65374201e-10 1.04188613e-06 9.51131137e-01\n",
      "  2.24830981e-04 2.86626831e-25 4.86202967e-02 6.20287532e-07\n",
      "  1.19378747e-10 2.20401261e-05]\n",
      " [9.16765623e-05 2.01376314e-06 5.86249812e-05 1.30399541e-01\n",
      "  9.30009413e-02 1.03777007e-19 5.43981687e-01 2.32354866e-01\n",
      "  6.25558353e-05 4.80939114e-05]\n",
      " [3.03964929e-02 1.28562775e-01 5.62829977e-01 2.48173149e-01\n",
      "  3.78001003e-03 1.51395277e-08 1.91755900e-02 7.07453454e-03\n",
      "  5.49853855e-06 1.95765668e-06]\n",
      " [1.71891656e-07 2.94459031e-07 1.81607495e-05 4.58024236e-02\n",
      "  5.43533224e-04 4.44947385e-21 9.53606031e-01 3.87126419e-08\n",
      "  1.64134195e-08 2.93294949e-05]]\n",
      "Akurasi Naive Bayes: 0.6649747640366135\n",
      "Classification Report Naive Bayes:\n",
      "                 precision    recall  f1-score   support\n",
      "\n",
      "      Analysis       0.00      0.00      0.00       384\n",
      "      Backdoor       0.06      0.03      0.04       367\n",
      "           DoS       0.26      0.68      0.38      2459\n",
      "      Exploits       0.63      0.43      0.51      6636\n",
      "       Fuzzers       0.41      0.40      0.41      3637\n",
      "       Generic       0.98      0.94      0.96      7975\n",
      "        Normal       0.91      0.78      0.84     11254\n",
      "Reconnaissance       0.34      0.51      0.41      2070\n",
      "     Shellcode       0.33      0.00      0.01       259\n",
      "         Worms       0.31      0.18      0.23        28\n",
      "\n",
      "      accuracy                           0.66     35069\n",
      "     macro avg       0.42      0.39      0.38     35069\n",
      "  weighted avg       0.72      0.66      0.68     35069\n",
      "\n"
     ]
    }
   ],
   "source": [
    "#buat naive bayes from sklearn\n",
    "from sklearn.naive_bayes import GaussianNB\n",
    "from sklearn.metrics import accuracy_score, classification_report\n",
    "\n",
    "nb_model = GaussianNB()\n",
    "\n",
    "nb_model.fit(X_train, y_train)\n",
    "\n",
    "y_pred_nb = nb_model.predict(X_val)\n",
    "\n",
    "y_pred_proba_nb = nb_model.predict_proba(X_val)\n",
    "\n",
    "print(\"Naive Bayes Probabilities:\\n\", y_pred_proba_nb[:22])\n",
    "\n",
    "print(\"Akurasi Naive Bayes:\", accuracy_score(y_val, y_pred_nb))\n",
    "print(\"Classification Report Naive Bayes:\\n\", classification_report(y_val, y_pred_nb))"
   ]
  },
  {
   "cell_type": "markdown",
   "metadata": {
    "cell_id": "c90daef2776441d38f67c4c90907f54c",
    "deepnote_cell_type": "markdown",
    "id": "TLDtIkPdLfHg"
   },
   "source": [
    "## C. ID3"
   ]
  },
  {
   "cell_type": "code",
   "execution_count": null,
   "metadata": {
    "cell_id": "ccad5579cbb646d2b4b7c09146cc03a4",
    "deepnote_cell_type": "code",
    "execution_context_id": "04725a34-2a32-4263-b40d-c6a9b3bddd84",
    "execution_millis": 772,
    "execution_start": 1734261993366,
    "source_hash": "aa4e8122"
   },
   "outputs": [
    {
     "name": "stdout",
     "output_type": "stream",
     "text": [
      "Akurasi ID3: 0.6459266018420827\n",
      "Classification Report ID3:\n",
      "                 precision    recall  f1-score   support\n",
      "\n",
      "      Analysis       0.05      0.05      0.05       384\n",
      "      Backdoor       0.04      0.04      0.04       367\n",
      "           DoS       0.26      0.29      0.27      2459\n",
      "      Exploits       0.52      0.47      0.49      6636\n",
      "       Fuzzers       0.40      0.41      0.41      3637\n",
      "       Generic       0.92      0.93      0.93      7975\n",
      "        Normal       0.82      0.80      0.81     11254\n",
      "Reconnaissance       0.32      0.40      0.36      2070\n",
      "     Shellcode       0.06      0.03      0.04       259\n",
      "         Worms       0.00      0.00      0.00        28\n",
      "\n",
      "      accuracy                           0.65     35069\n",
      "     macro avg       0.34      0.34      0.34     35069\n",
      "  weighted avg       0.65      0.65      0.65     35069\n",
      "\n"
     ]
    }
   ],
   "source": [
    "from sklearn.tree import DecisionTreeClassifier\n",
    "from sklearn.metrics import accuracy_score, classification_report, ConfusionMatrixDisplay\n",
    "import matplotlib.pyplot as plt\n",
    "\n",
    "id3_model = DecisionTreeClassifier(criterion='entropy', random_state=42)\n",
    "np.random.seed(42)\n",
    "random_rows = np.random.randint(0,len(X_train), size=1000)\n",
    "id3_model.fit(X_train[random_rows], y_train[random_rows])\n",
    "\n",
    "# Prediksi dengan data validasi\n",
    "y_pred_id3 = id3_model.predict(X_val)\n",
    "# print(\"ID3 Probabilities:\\n\", y_pred_id3[:5])\n",
    "\n",
    "print(\"Akurasi ID3:\", accuracy_score(y_val, y_pred_id3))\n",
    "print(\"Classification Report ID3:\\n\", classification_report(y_val, y_pred_id3))\n"
   ]
  },
  {
   "cell_type": "code",
   "execution_count": null,
   "metadata": {
    "cell_id": "95d600c0327848e2a2bf37a718188b46",
    "deepnote_cell_type": "code",
    "execution_context_id": "04725a34-2a32-4263-b40d-c6a9b3bddd84",
    "execution_millis": 421,
    "execution_start": 1734261733057,
    "source_hash": "69dd47a6"
   },
   "outputs": [],
   "source": [
    "import numpy as np\n",
    "from numba import njit\n",
    "from collections import Counter\n",
    "\n",
    "@njit\n",
    "def entropy(y):\n",
    "    unique_vals = np.unique(y)\n",
    "    counts = np.zeros_like(unique_vals)\n",
    "    \n",
    "    for val in unique_vals:\n",
    "        counts[np.where(unique_vals == val)[0][0]] = np.sum(y == val)\n",
    "    \n",
    "    probabilities = counts / counts.sum()\n",
    "    return -np.sum(probabilities * np.log2(probabilities + 1e-9))\n",
    "\n",
    "@njit\n",
    "def information_gain(X_column, y, threshold):\n",
    "    parent_entropy = entropy(y)\n",
    "\n",
    "    left_indices = X_column <= threshold\n",
    "    right_indices = X_column > threshold\n",
    "\n",
    "    if left_indices.sum() == 0 or right_indices.sum() == 0:\n",
    "        return 0\n",
    "\n",
    "    n = len(y)\n",
    "    n_left, n_right = left_indices.sum(), right_indices.sum()\n",
    "\n",
    "    e_left, e_right = entropy(y[left_indices]), entropy(y[right_indices])\n",
    "\n",
    "    child_entropy = (n_left / n) * e_left + (n_right / n) * e_right\n",
    "\n",
    "    return parent_entropy - child_entropy\n",
    "\n",
    "class Node:\n",
    "    def __init__(self, feature=None, threshold=None, left=None, right=None, value=None):\n",
    "        self.feature = feature\n",
    "        self.threshold = threshold\n",
    "        self.left = left\n",
    "        self.right = right\n",
    "        self.value = value\n",
    "\n",
    "class ID3Classifier:\n",
    "    def __init__(self, max_depth=None):\n",
    "        self.max_depth = max_depth\n",
    "        self.root = None\n",
    "        self.label_mapping = None\n",
    "        self.reverse_label_mapping = None\n",
    "\n",
    "    def fit(self, X, y):\n",
    "\n",
    "        unique_labels = np.unique(y)\n",
    "        self.label_mapping = {label: idx for idx, label in enumerate(unique_labels)}\n",
    "        self.reverse_label_mapping = {idx: label for label, idx in self.label_mapping.items()}\n",
    "        y_encoded = np.array([self.label_mapping[label] for label in y])\n",
    "\n",
    "        self.root = self._build_tree(X, y_encoded)\n",
    "\n",
    "    def _build_tree(self, X, y, depth=0):\n",
    "        print(depth)\n",
    "        n_samples, n_features = X.shape\n",
    "        num_labels = len(np.unique(y))\n",
    "\n",
    "        if num_labels == 1 or n_samples == 0 or (self.max_depth is not None and depth >= self.max_depth):\n",
    "            most_common_label = Counter(y).most_common(1)[0][0]\n",
    "            return Node(value=most_common_label)\n",
    "\n",
    "        best_gain = -1\n",
    "        best_feature, best_threshold = None, None\n",
    "\n",
    "        for feature_idx in range(n_features):\n",
    "            X_column = X[:, feature_idx]\n",
    "            thresholds = np.unique(X_column)\n",
    "\n",
    "            for threshold in thresholds:\n",
    "                gain = information_gain(X_column, y, threshold)\n",
    "\n",
    "                if gain > best_gain:\n",
    "                    best_gain = gain\n",
    "                    best_feature = feature_idx\n",
    "                    best_threshold = threshold\n",
    "        if best_gain == -1:\n",
    "            most_common_label = Counter(y).most_common(1)[0][0]\n",
    "            return Node(value=most_common_label)\n",
    "\n",
    "        left_indices = X[:, best_feature] <= best_threshold\n",
    "        right_indices = X[:, best_feature] > best_threshold\n",
    "\n",
    "        left_subtree = self._build_tree(X[left_indices], y[left_indices], depth + 1)\n",
    "        right_subtree = self._build_tree(X[right_indices], y[right_indices], depth + 1)\n",
    "\n",
    "        return Node(feature=best_feature, threshold=best_threshold, left=left_subtree, right=right_subtree)\n",
    "\n",
    "    def predict(self, X):\n",
    "        \"\"\"\n",
    "        Predict class labels for samples in X.\n",
    "        \"\"\"\n",
    "        predictions = [self._traverse_tree(x, self.root) for x in X]\n",
    "        return np.array([self.reverse_label_mapping[pred] for pred in predictions])\n",
    "\n",
    "    def _traverse_tree(self, x, node):\n",
    "        \"\"\"\n",
    "        Traverse the tree to make a prediction for a single sample.\n",
    "        \"\"\"\n",
    "        if node.value is not None:\n",
    "            return node.value\n",
    "\n",
    "        if x[node.feature] <= node.threshold:\n",
    "            return self._traverse_tree(x, node.left)\n",
    "        return self._traverse_tree(x, node.right)"
   ]
  },
  {
   "cell_type": "code",
   "execution_count": null,
   "metadata": {
    "cell_id": "c126a02d123f45f6ac2df27293a8e751",
    "deepnote_cell_type": "code",
    "execution_context_id": "04725a34-2a32-4263-b40d-c6a9b3bddd84",
    "execution_millis": 3241,
    "execution_start": 1734262014394,
    "id": "gZ6_x1LKLfHh",
    "source_hash": "345c2039"
   },
   "outputs": [
    {
     "name": "stdout",
     "output_type": "stream",
     "text": [
      "131\n",
      "0\n",
      "1\n",
      "2\n",
      "3\n",
      "4\n",
      "4\n",
      "5\n",
      "5\n",
      "3\n",
      "2\n",
      "3\n",
      "4\n",
      "5\n",
      "5\n",
      "4\n",
      "5\n",
      "6\n",
      "6\n",
      "5\n",
      "6\n",
      "6\n",
      "3\n",
      "4\n",
      "5\n",
      "5\n",
      "4\n",
      "5\n",
      "5\n",
      "1\n",
      "2\n",
      "3\n",
      "4\n",
      "5\n",
      "6\n",
      "6\n",
      "5\n",
      "6\n",
      "6\n",
      "4\n",
      "5\n",
      "6\n",
      "6\n",
      "5\n",
      "6\n",
      "6\n",
      "3\n",
      "4\n",
      "5\n",
      "6\n",
      "6\n",
      "5\n",
      "6\n",
      "6\n",
      "4\n",
      "5\n",
      "6\n",
      "6\n",
      "5\n",
      "6\n",
      "6\n",
      "2\n",
      "3\n",
      "4\n",
      "5\n",
      "5\n",
      "6\n",
      "6\n",
      "4\n",
      "5\n",
      "6\n",
      "6\n",
      "5\n",
      "6\n",
      "6\n",
      "3\n",
      "4\n",
      "5\n",
      "6\n",
      "6\n",
      "5\n",
      "4\n",
      "5\n",
      "6\n",
      "6\n",
      "5\n",
      "122\n",
      "Accuracy: 0.6517437052667598\n",
      "Classification Report:\n",
      "/shared-libs/python3.11/py/lib/python3.11/site-packages/sklearn/metrics/_classification.py:1469: UndefinedMetricWarning: Precision and F-score are ill-defined and being set to 0.0 in labels with no predicted samples. Use `zero_division` parameter to control this behavior.\n",
      "  _warn_prf(average, modifier, msg_start, len(result))\n",
      "                precision    recall  f1-score   support\n",
      "\n",
      "      Analysis       0.02      0.01      0.01       384\n",
      "      Backdoor       0.05      0.02      0.03       367\n",
      "           DoS       0.03      0.00      0.00      2459\n",
      "      Exploits       0.48      0.66      0.56      6636\n",
      "       Fuzzers       0.41      0.45      0.43      3637\n",
      "       Generic       0.95      0.92      0.93      7975\n",
      "        Normal       0.94      0.75      0.83     11254\n",
      "Reconnaissance       0.22      0.52      0.31      2070\n",
      "     Shellcode       0.00      0.00      0.00       259\n",
      "         Worms       0.00      0.00      0.00        28\n",
      "\n",
      "      accuracy                           0.65     35069\n",
      "     macro avg       0.31      0.33      0.31     35069\n",
      "  weighted avg       0.67      0.65      0.65     35069\n",
      "\n",
      "/shared-libs/python3.11/py/lib/python3.11/site-packages/sklearn/metrics/_classification.py:1469: UndefinedMetricWarning: Precision and F-score are ill-defined and being set to 0.0 in labels with no predicted samples. Use `zero_division` parameter to control this behavior.\n",
      "  _warn_prf(average, modifier, msg_start, len(result))\n",
      "/shared-libs/python3.11/py/lib/python3.11/site-packages/sklearn/metrics/_classification.py:1469: UndefinedMetricWarning: Precision and F-score are ill-defined and being set to 0.0 in labels with no predicted samples. Use `zero_division` parameter to control this behavior.\n",
      "  _warn_prf(average, modifier, msg_start, len(result))\n"
     ]
    }
   ],
   "source": [
    "# Type your code here\n",
    "clifier_id3 = ID3Classifier(max_depth=6)\n",
    "print(131)\n",
    "clifier_id3.fit(X_train[random_rows], y_train[random_rows])\n",
    "print(122)\n",
    "y_pred = clifier_id3.predict(X_val)\n",
    "accuracy = accuracy_score(y_val, y_pred)\n",
    "print(f\"Accuracy: {accuracy}\")\n",
    "print(\"Classification Report:\")\n",
    "print(classification_report(y_val, y_pred))"
   ]
  },
  {
   "cell_type": "code",
   "execution_count": null,
   "metadata": {
    "cell_id": "55edce1476fe4645946de78e0bd429ce",
    "deepnote_cell_type": "code",
    "execution_context_id": "ec99f6db-1753-43d5-af40-8a9b56e3698b",
    "execution_millis": 101,
    "execution_start": 1734250787235,
    "source_hash": "48dc3d01"
   },
   "outputs": [
    {
     "data": {
      "text/plain": [
       "['id3.pkl']"
      ]
     },
     "execution_count": 46,
     "metadata": {},
     "output_type": "execute_result"
    }
   ],
   "source": [
    "import joblib\n",
    "joblib.dump(clifier_id3, 'id3.pkl')"
   ]
  },
  {
   "cell_type": "markdown",
   "metadata": {
    "cell_id": "fdcc5cb0372e4c2eaccf8c42e59b5682",
    "deepnote_cell_type": "markdown",
    "id": "LoH2u6fOLfHh"
   },
   "source": [
    "## D. Improvements (Optional)\n",
    "\n",
    "- **Visualize the model evaluation result**\n",
    "\n",
    "This will help you to understand the details more clearly about your model's performance. From the visualization, you can see clearly if your model is leaning towards a class than the others. (Hint: confusion matrix, ROC-AUC curve, etc.)\n",
    "\n",
    "- **Explore the hyperparameters of your models**\n",
    "\n",
    "Each models have their own hyperparameters. And each of the hyperparameter have different effects on the model behaviour. You can optimize the model performance by finding the good set of hyperparameters through a process called **hyperparameter tuning**. (Hint: Grid search, random search, bayesian optimization)\n",
    "\n",
    "- **Cross-validation**\n",
    "\n",
    "Cross-validation is a critical technique in machine learning and data science for evaluating and validating the performance of predictive models. It provides a more **robust** and **reliable** evaluation method compared to a hold-out (single train-test set) validation. Though, it requires more time and computing power because of how cross-validation works. (Hint: k-fold cross-validation, stratified k-fold cross-validation, etc.)"
   ]
  },
  {
   "cell_type": "code",
   "execution_count": null,
   "metadata": {
    "cell_id": "2bbba0cf9a0b413d9dea94c2c2f5e508",
    "deepnote_cell_type": "code",
    "deepnote_to_be_reexecuted": true,
    "id": "pg-A54yELfHh"
   },
   "outputs": [],
   "source": [
    "# Type your code here"
   ]
  },
  {
   "cell_type": "markdown",
   "metadata": {
    "cell_id": "cd0a91b3af56430d8f39e3abf4835398",
    "deepnote_cell_type": "markdown",
    "id": "Li4l53DjLfHh"
   },
   "source": [
    "## E. Submission\n",
    "To predict the test set target feature and submit the results to the kaggle competition platform, do the following:\n",
    "1. Create a new pipeline instance identical to the first in Data Preprocessing\n",
    "2. With the pipeline, apply `fit_transform` to the original training set before splitting, then only apply `transform` to the test set.\n",
    "3. Retrain the model on the preprocessed training set\n",
    "4. Predict the test set\n",
    "5. Make sure the submission contains the `id` and `attack_cat` column."
   ]
  },
  {
   "cell_type": "code",
   "execution_count": 31,
   "metadata": {
    "cell_id": "6b19b1e1234a43a79dfd8058ddc8d657",
    "deepnote_cell_type": "code",
    "execution_context_id": "ec99f6db-1753-43d5-af40-8a9b56e3698b",
    "execution_millis": 1337,
    "execution_start": 1734253725502,
    "id": "LeqnfWc-LfHi",
    "source_hash": "b8ac7d26"
   },
   "outputs": [
    {
     "name": "stdout",
     "output_type": "stream",
     "text": [
      "   is_sm_ips_ports  ct_state_ttl  ct_flw_http_mthd  is_ftp_login  ct_ftp_cmd  \\\n",
      "0              0.0           1.0               0.0           0.0         0.0   \n",
      "1              0.0           1.0               0.0           NaN         0.0   \n",
      "2              0.0           1.0               0.0           0.0         0.0   \n",
      "3              0.0           2.0               0.0           0.0         0.0   \n",
      "4              NaN           0.0               NaN           0.0         0.0   \n",
      "\n",
      "   ct_srv_src  ct_srv_dst  ct_dst_ltm  ct_src_ltm  ct_src_dport_ltm  ...  \\\n",
      "0         5.0         5.0         2.0         2.0               2.0  ...   \n",
      "1         6.0         6.0         1.0         1.0               1.0  ...   \n",
      "2         4.0         4.0         1.0         2.0               1.0  ...   \n",
      "3        10.0         4.0         2.0         4.0               2.0  ...   \n",
      "4        13.0        11.0        10.0         7.0               6.0  ...   \n",
      "\n",
      "   trans_depth  response_body_len  proto         sjit        djit     sinpkt  \\\n",
      "0          0.0                0.0    tcp  2737.954123  118.833969  48.756556   \n",
      "1          0.0                0.0    tcp  2938.299144  165.780563  49.812539   \n",
      "2          0.0                0.0    tcp  4287.453629  129.471406  69.765530   \n",
      "3          0.0                0.0    udp     0.000000    0.000000   0.001000   \n",
      "4          0.0                0.0    tcp  1119.063538   26.748141  17.628799   \n",
      "\n",
      "       dinpkt    tcprtt    synack    ackdat  \n",
      "0   76.593602  0.165117  0.072001  0.093116  \n",
      "1  109.557602  0.223604  0.100248  0.123356  \n",
      "2   94.395906  0.113189  0.082498  0.030691  \n",
      "3    0.000000  0.000000  0.000000  0.000000  \n",
      "4   15.543294  0.000655  0.000526  0.000129  \n",
      "\n",
      "[5 rows x 42 columns]\n",
      "(20583, 42)\n"
     ]
    }
   ],
   "source": [
    "test_path = './test'\n",
    "\n",
    "test_csv_files = [f for f in glob.glob(os.path.join(test_path, '*.csv'))\n",
    "                   if 'UNSW-NB15_features-modified.csv' not in f]\n",
    "\n",
    "test_list = [pd.read_csv(file) for file in test_csv_files]\n",
    "test_merged_df = test_list[0]\n",
    "for df in test_list[1:]:\n",
    "    test_merged_df = pd.merge(test_merged_df, df, on='id', how='outer')\n",
    "\n",
    "print(test_merged_df.head())\n",
    "test_df = test_merged_df\n",
    "print(test_df.shape)"
   ]
  },
  {
   "cell_type": "code",
   "execution_count": 32,
   "metadata": {
    "cell_id": "9c484f3434da446c8b27ef62597535bf",
    "deepnote_cell_type": "code",
    "execution_context_id": "ec99f6db-1753-43d5-af40-8a9b56e3698b",
    "execution_millis": 23372,
    "execution_start": 1734256187051,
    "source_hash": "68f93527"
   },
   "outputs": [
    {
     "name": "stderr",
     "output_type": "stream",
     "text": [
      "C:\\Users\\ASUS\\AppData\\Roaming\\Python\\Python312\\site-packages\\sklearn\\preprocessing\\_encoders.py:975: FutureWarning: `sparse` was renamed to `sparse_output` in version 1.2 and will be removed in 1.4. `sparse_output` is ignored unless you leave `sparse` to its default value.\n",
      "  warnings.warn(\n",
      "C:\\Users\\ASUS\\AppData\\Roaming\\Python\\Python312\\site-packages\\sklearn\\preprocessing\\_encoders.py:228: UserWarning: Found unknown categories in columns [0] during transform. These unknown categories will be encoded as all zeros\n",
      "  warnings.warn(\n"
     ]
    },
    {
     "name": "stdout",
     "output_type": "stream",
     "text": [
      "20583\n"
     ]
    }
   ],
   "source": [
    "train_merged_df_transformed = pipeline.fit_transform(train_merged_df)\n",
    "test_df_transformed = pipeline.transform(test_df)\n",
    "target_col = 'attack_cat'\n",
    "# Ubah target menjadi numpy array karena library scikit-learn membutuhkan format ini\n",
    "X_train_merged = train_merged_df_transformed\n",
    "y_train_merged = train_merged_df[target_col].to_numpy()\n",
    "\n",
    "# Menggunakan class HandleImbalancedDataset\n",
    "handle_imbalance = HandleImbalancedDataset(strategy='smote', class_weight='balanced')\n",
    "\n",
    "# Resample data (menggunakan class yang dibuat)\n",
    "X_train_balanced, y_train_balanced = handle_imbalance.fit_transform(X_train_merged, y_train_merged)\n",
    "X_test = test_df_transformed\n",
    "print(len(X_test))"
   ]
  },
  {
   "cell_type": "code",
   "execution_count": 33,
   "metadata": {
    "cell_id": "243ba21995d94a72bd294bf9307a68ec",
    "deepnote_cell_type": "code",
    "execution_context_id": "ec99f6db-1753-43d5-af40-8a9b56e3698b",
    "execution_millis": 93383,
    "execution_start": 1734259130590,
    "source_hash": "51bd5a7a"
   },
   "outputs": [
    {
     "name": "stdout",
     "output_type": "stream",
     "text": [
      "0\n",
      "100\n",
      "200\n",
      "300\n",
      "400\n",
      "500\n",
      "600\n",
      "700\n",
      "800\n",
      "900\n",
      "1000\n",
      "1100\n",
      "1200\n",
      "1300\n",
      "1400\n",
      "1500\n",
      "1600\n",
      "1700\n",
      "1800\n",
      "1900\n",
      "2000\n",
      "2100\n",
      "2200\n",
      "2300\n"
     ]
    },
    {
     "ename": "KeyboardInterrupt",
     "evalue": "",
     "output_type": "error",
     "traceback": [
      "\u001b[1;31m---------------------------------------------------------------------------\u001b[0m",
      "\u001b[1;31mKeyboardInterrupt\u001b[0m                         Traceback (most recent call last)",
      "Cell \u001b[1;32mIn[33], line 3\u001b[0m\n\u001b[0;32m      1\u001b[0m knn_model \u001b[38;5;241m=\u001b[39m joblib\u001b[38;5;241m.\u001b[39mload(\u001b[38;5;124m'\u001b[39m\u001b[38;5;124mknn.pkl\u001b[39m\u001b[38;5;124m'\u001b[39m)\n\u001b[0;32m      2\u001b[0m knn_model\u001b[38;5;241m.\u001b[39mfit(X_train_balanced, y_train_balanced)\n\u001b[1;32m----> 3\u001b[0m y_pred \u001b[38;5;241m=\u001b[39m \u001b[43mknn_model\u001b[49m\u001b[38;5;241;43m.\u001b[39;49m\u001b[43mpredict\u001b[49m\u001b[43m(\u001b[49m\u001b[43mX_test\u001b[49m\u001b[43m)\u001b[49m\n\u001b[0;32m      4\u001b[0m \u001b[38;5;66;03m# submission = pd.DataFrame({'id': test_df['id'], 'attack_cat': y_pred})\u001b[39;00m\n\u001b[0;32m      5\u001b[0m \u001b[38;5;66;03m# submission.to_csv('submission.csv', index=False)\u001b[39;00m\n\u001b[0;32m      6\u001b[0m \u001b[38;5;66;03m# clifier_id3 = ID3Classifier(max_depth=6)\u001b[39;00m\n\u001b[0;32m      7\u001b[0m \u001b[38;5;66;03m# print(131)\u001b[39;00m\n\u001b[0;32m      8\u001b[0m \u001b[38;5;66;03m# clifier_id3.fit(X_train_merged, y_train_merged)\u001b[39;00m\n\u001b[0;32m      9\u001b[0m \u001b[38;5;66;03m# print(122)\u001b[39;00m\n\u001b[0;32m     10\u001b[0m y_pred \u001b[38;5;241m=\u001b[39m clifier_id3\u001b[38;5;241m.\u001b[39mpredict(X_test)\n",
      "Cell \u001b[1;32mIn[23], line 39\u001b[0m, in \u001b[0;36mKNN.predict\u001b[1;34m(self, X)\u001b[0m\n\u001b[0;32m     36\u001b[0m predictions \u001b[38;5;241m=\u001b[39m np\u001b[38;5;241m.\u001b[39mzeros(X\u001b[38;5;241m.\u001b[39mshape[\u001b[38;5;241m0\u001b[39m], dtype\u001b[38;5;241m=\u001b[39mnp\u001b[38;5;241m.\u001b[39mint64)\n\u001b[0;32m     38\u001b[0m \u001b[38;5;28;01mfor\u001b[39;00m i \u001b[38;5;129;01min\u001b[39;00m \u001b[38;5;28mrange\u001b[39m(X\u001b[38;5;241m.\u001b[39mshape[\u001b[38;5;241m0\u001b[39m]):\n\u001b[1;32m---> 39\u001b[0m     k_indices \u001b[38;5;241m=\u001b[39m \u001b[43mfind_k_nearest_neighbors\u001b[49m\u001b[43m(\u001b[49m\u001b[38;5;28;43mself\u001b[39;49m\u001b[38;5;241;43m.\u001b[39;49m\u001b[43mX_train\u001b[49m\u001b[43m,\u001b[49m\u001b[43m \u001b[49m\u001b[43mX\u001b[49m\u001b[43m[\u001b[49m\u001b[43mi\u001b[49m\u001b[43m]\u001b[49m\u001b[43m,\u001b[49m\u001b[43m \u001b[49m\u001b[38;5;28;43mself\u001b[39;49m\u001b[38;5;241;43m.\u001b[39;49m\u001b[43mk\u001b[49m\u001b[43m)\u001b[49m\n\u001b[0;32m     41\u001b[0m     k_nearest_labels \u001b[38;5;241m=\u001b[39m \u001b[38;5;28mself\u001b[39m\u001b[38;5;241m.\u001b[39my_train[k_indices]\n\u001b[0;32m     43\u001b[0m     label_counts \u001b[38;5;241m=\u001b[39m Counter(k_nearest_labels)\n",
      "\u001b[1;31mKeyboardInterrupt\u001b[0m: "
     ]
    }
   ],
   "source": [
    "knn_model = joblib.load('knn.pkl')\n",
    "knn_model.fit(X_train_balanced, y_train_balanced)\n",
    "y_pred = knn_model.predict(X_test)\n",
    "# submission = pd.DataFrame({'id': test_df['id'], 'attack_cat': y_pred})\n",
    "# submission.to_csv('submission.csv', index=False)\n",
    "# clifier_id3 = ID3Classifier(max_depth=6)\n",
    "# print(131)\n",
    "# clifier_id3.fit(X_train_merged, y_train_merged)\n",
    "# print(122)\n",
    "y_pred = clifier_id3.predict(X_test)\n",
    "submission = pd.DataFrame({'id': test_df['id'], 'attack_cat': y_pred})\n",
    "submission.to_csv('submission.csv', index=False)"
   ]
  },
  {
   "cell_type": "markdown",
   "metadata": {
    "cell_id": "4806fae1910f49539129d7f8895b54bd",
    "deepnote_cell_type": "markdown",
    "id": "R-jXvKOpLfHi"
   },
   "source": [
    "# 6. Error Analysis\n",
    "\n",
    "Based on all the process you have done until the modeling and evaluation step, write an analysis to support each steps you have taken to solve this problem. Write the analysis using the markdown block. Some questions that may help you in writing the analysis:\n",
    "\n",
    "- Does my model perform better in predicting one class than the other? If so, why is that?\n",
    "- To each models I have tried, which performs the best and what could be the reason?\n",
    "- Is it better for me to impute or drop the missing data? Why?\n",
    "- Does feature scaling help improve my model performance?\n",
    "- etc..."
   ]
  },
  {
   "cell_type": "markdown",
   "metadata": {
    "cell_id": "d5e154bf38e54508ac938edea9c381d5",
    "deepnote_cell_type": "markdown",
    "id": "tWL3nEAELfHj"
   },
   "source": [
    "`Provide your analysis here`"
   ]
  },
  {
   "cell_type": "markdown",
   "metadata": {},
   "source": [
    "1. Does my model perform better in predicting one class than the other? If so, why is that?\n",
    "\n",
    "No, since i already handle the imbalance data problem using 'smote' method, my model perform better not just in predicting one class, but all classes. By rcreating a more balanced dataset, my model is trained to reduce bias toward the majority class."
   ]
  },
  {
   "cell_type": "markdown",
   "metadata": {},
   "source": [
    "2. To each models I have tried, which performs the best and what could be the reason?\n",
    "\n",
    "The best model is KNN algorithm, since the accuracy is the highest with rate around 0.75. The reasons are KNN uses the majority class of the nearest neighbours to make predictions and balanced dataset helps the minority class also adequately represented in the neighboirhood. Feature scaling also help KNN's perfomance since all dimensions contribute equally to the distance. in comparison to Naive Bayes (Gaussian) and ID3, Naive Bayes assumes feature independence and relies on the Gaussian Distribution for continous feature that might not accurately represent the dataset's true feature distribution. On the other hand, ID3 can over simplyfy the data's structure and make it prone to overfitting.\n"
   ]
  },
  {
   "cell_type": "markdown",
   "metadata": {},
   "source": [
    "3. Is it better for me to impute or drop the missing data? Why?\n",
    "\n",
    "If the data is still correlated and relevant in representing the data, then impute must be better because we dont wanna lose any data in the first place, but if the data itself is not even relevant or only represents small portion of the dataset, then its better to drop it."
   ]
  },
  {
   "cell_type": "markdown",
   "metadata": {},
   "source": [
    "4. Does feature scaling help improve my model performance?\n",
    "\n",
    "Yes, it does help to improve my model perfomance, because it makes my data more distributed equally and in a controlled scale. And, since i used standardization,  the data is transformed such that each feature has a mean of 0 and a standard deviation of 1. This really helps for algorithms that are sensitive to the scale of the data, like KNN, SVM, etc.\n"
   ]
  },
  {
   "cell_type": "markdown",
   "metadata": {
    "created_in_deepnote_cell": true,
    "deepnote_cell_type": "markdown"
   },
   "source": [
    "<a style='text-decoration:none;line-height:16px;display:flex;color:#5B5B62;padding:10px;justify-content:end;' href='https://deepnote.com?utm_source=created-in-deepnote-cell&projectId=cce1a5f7-8a5d-47c2-9e9a-2688d1a2959c' target=\"_blank\">\n",
    "<img alt='Created in deepnote.com' style='display:inline;max-height:16px;margin:0px;margin-right:7.5px;' src='data:image/svg+xml;base64,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' > </img>\n",
    "Created in <span style='font-weight:600;margin-left:4px;'>Deepnote</span></a>"
   ]
  }
 ],
 "metadata": {
  "deepnote_notebook_id": "b244fbb3dc3f4eb19b377cc7e046d100",
  "kernelspec": {
   "display_name": "Python 3",
   "language": "python",
   "name": "python3"
  },
  "language_info": {
   "codemirror_mode": {
    "name": "ipython",
    "version": 3
   },
   "file_extension": ".py",
   "mimetype": "text/x-python",
   "name": "python",
   "nbconvert_exporter": "python",
   "pygments_lexer": "ipython3",
   "version": "3.12.0"
  }
 },
 "nbformat": 4,
 "nbformat_minor": 0
}
